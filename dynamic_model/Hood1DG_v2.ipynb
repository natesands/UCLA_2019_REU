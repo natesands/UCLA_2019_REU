{
 "cells": [
  {
   "cell_type": "code",
   "execution_count": 1,
   "metadata": {},
   "outputs": [
    {
     "data": {
      "text/plain": [
       "'/home/ironchefsands/Documents/dynamic model'"
      ]
     },
     "execution_count": 1,
     "metadata": {},
     "output_type": "execute_result"
    }
   ],
   "source": [
    "%pwd"
   ]
  },
  {
   "cell_type": "code",
   "execution_count": 2,
   "metadata": {},
   "outputs": [
    {
     "name": "stdout",
     "output_type": "stream",
     "text": [
      "Hood1DG_v1.ipynb  hood1D.ipynb  model_b_v1.ipynb  Untitled.ipynb\r\n"
     ]
    }
   ],
   "source": [
    "%ls"
   ]
  },
  {
   "cell_type": "code",
   "execution_count": 83,
   "metadata": {},
   "outputs": [],
   "source": [
    "import numpy as np\n",
    "import matplotlib.pyplot as plt\n",
    "%matplotlib inline\n",
    "\n",
    "class Gang:\n",
    "    \"\"\"\n",
    "    z: sites\n",
    "    n: turns\n",
    "    alpha: gang's propensity to crime\n",
    "    g:  initial gang population at each site\n",
    "    s:  gang concentration at each site\n",
    "    \"\"\"\n",
    "    def __init__(self, z=2, n=10, alpha = 0.1, g = None, s=None):\n",
    "        self.z = z\n",
    "        self.n = n\n",
    "        self.alpha = alpha\n",
    "        \n",
    "        self.g = np.zeros(z) if g is None else g\n",
    "        self.s = np.ones(z) if s is None else s\n",
    "        # initialize grid\n",
    "        self.G = np.zeros((n,z))\n",
    "        self.G[0] = self.g\n",
    "        \n",
    "    def draw(self):\n",
    "        a = self.G\n",
    "        plt.imshow(a, cmap='magma', alpha=0.7)\n",
    "        plt.xticks([])\n",
    "        plt.yticks([])\n",
    "        \n",
    "    def graph(self):\n",
    "        G = self.G\n",
    "        z = self.z\n",
    "        n = self.n\n",
    "        colors = 'brgcmyk'\n",
    "        fig, ax = plt.subplots()\n",
    "        for i in range(z):\n",
    "            ax.plot(range(n), G[:, i], '-' + colors[i % len(colors)])\n",
    "        \n",
    "class Hood1DG:\n",
    "    \"\"\"\n",
    "    z: sites\n",
    "    n: turns\n",
    "    gang_count: number of gangs in hood\n",
    "    gang_list: optional list of gang objects\n",
    "    p: police presence in each site\n",
    "    beta: arrest rate\n",
    "    gamma: police reactivity\n",
    "    delta: violence coefficient\n",
    "    \"\"\"\n",
    "    def __init__(self, z=2, n=10, gang_count=2, gang_list=None,\n",
    "                 p=None, beta=0.01, gamma=0.5, delta=0.5):\n",
    "        self.z = z\n",
    "        self.n = n\n",
    "        self.gang_count = gang_count\n",
    "        self.beta = beta\n",
    "        self.gamma = gamma\n",
    "        self.delta = delta\n",
    "        \n",
    "        self.p = np.ones(z) if p is None else p\n",
    "        \n",
    "        # initialize grids:\n",
    "        # police\n",
    "        self.P = np.zeros((n, z))\n",
    "        # crime\n",
    "        self.C = np.zeros((n, z))\n",
    "        # arrests\n",
    "        self.A = np.zeros((n, z))\n",
    "        # violence\n",
    "        self.V = np.zeros((n, z))\n",
    "        \n",
    "        # initialize gang list\n",
    "        if gang_list is None:\n",
    "            self.gangs = []\n",
    "            for i in range(gang_count):\n",
    "                self.gangs.append(Gang(z, n))\n",
    "        else:\n",
    "            self.gangs = gang_list\n",
    "            \n",
    "        # initial conditions\n",
    "        # police\n",
    "        self.P[0] = self.p\n",
    "        # crime at site = sum(gang pop. * gang alpha)\n",
    "        for k in range(gang_count):\n",
    "            self.C[0] += self.gangs[k].G[0] * self.gangs[k].alpha\n",
    "            \n",
    "        self.t = 0\n",
    "        \n",
    "    def step(self):\n",
    "        t = self.t\n",
    "        # reduce gang populations by arrests\n",
    "        for k in range(self.gang_count):\n",
    "            gang = self.gangs[k]\n",
    "            arrests = self.beta * gang.G[t] * self.P[t]\n",
    "            self.A[t] += arrests\n",
    "            gang.G[t+1] = gang.G[t] - arrests\n",
    "        # account for movement between sites\n",
    "        for k in range(self.gang_count):\n",
    "            gang = self.gangs[k]\n",
    "            g_ = gang.G[t+1].copy()\n",
    "            gang.G[t+1] *= 0\n",
    "            for i in range(self.z):\n",
    "                gang.G[t+1] += g_[i] * self.PI_k_ij(k,i)\n",
    "        \n",
    "        # add source terms\n",
    "        for k in range(self.gang_count):\n",
    "            gang = self.gangs[k]\n",
    "            gang.G[t+1] += gang.s\n",
    "        # update crime grid based on gang figures\n",
    "        # just calculated\n",
    "        for k in range(self.gang_count):\n",
    "            gang = self.gangs[k]\n",
    "            self.C[t+1] += gang.G[t+1] * gang.alpha\n",
    "        # update police numbers\n",
    "        self.P[t+1] = self.P[t] + self.gamma * self.C[t]\n",
    "            \n",
    "        self.t += 1\n",
    "        \n",
    "    def PI_k_ij(self, k, i):\n",
    "        \"\"\" \n",
    "        transition function: \n",
    "        For gang k at site i, returns array of\n",
    "        length z containing probabilities of transition\n",
    "        from i to each site\n",
    "        \"\"\"\n",
    "        t = self.t\n",
    "        # count rival gang members in each site\n",
    "        rivals = np.zeros(self.z)\n",
    "        for l in range(self.gang_count):\n",
    "            if l != k:\n",
    "                rivals += self.gangs[l].G[t]\n",
    "        # compute difference of (cops + rivals) between\n",
    "        # i and every site\n",
    "        p_ = self.P[t]\n",
    "        x = (p_[i] + rivals[i]) - (p_ + rivals)\n",
    "        # find ln(1+e^x) for each entry\n",
    "        x = np.log(1 + np.exp(x))\n",
    "        return x / x.sum()\n",
    "        \n",
    "        \n",
    "    def loop(self):\n",
    "        for i in range(self.n - 1):\n",
    "            self.step()\n",
    "            \n",
    "    def draw(self):\n",
    "        crime = self.C\n",
    "        plt.imshow(crime, cmap='plasma')\n",
    "        plt.xticks([])\n",
    "        plt.yticks([])\n",
    "        \n",
    "    def graph(self):\n",
    "        crime = self.C\n",
    "        z = self.z\n",
    "        n = self.n\n",
    "        colors = 'brgcmyk'\n",
    "        fig, ax = plt.subplots()\n",
    "        for i in range(z):\n",
    "            ax.plot(range(n), crime[:, i], '-' + colors[i % len(colors)])"
   ]
  },
  {
   "cell_type": "code",
   "execution_count": 85,
   "metadata": {},
   "outputs": [],
   "source": [
    "hood = Hood1DG()"
   ]
  },
  {
   "cell_type": "code",
   "execution_count": 86,
   "metadata": {},
   "outputs": [],
   "source": [
    "# check conservation of mass\n",
    "bloods = Gang(z=5, n=20, alpha=0.1, g=np.array([1,6,1,0,1]), s=np.array([0, 0, 0, 0, 0]))\n",
    "crips = Gang(z=5, n=20, alpha=0.3, g=np.array([1,0,4,1,1]), s=np.array([0, 0, 0, 0, 0]))\n",
    "hood= Hood1DG(z=5,n=20, gang_count=2, gang_list=[bloods, crips], p=np.array([1,1,1,1,1]), beta=0.0, gamma=0.5)"
   ]
  },
  {
   "cell_type": "code",
   "execution_count": 87,
   "metadata": {},
   "outputs": [],
   "source": [
    "hood.loop()"
   ]
  },
  {
   "cell_type": "code",
   "execution_count": 88,
   "metadata": {},
   "outputs": [
    {
     "data": {
      "text/plain": [
       "array([[1.        , 6.        , 1.        , 0.        , 1.        ],\n",
       "       [1.76123068, 3.57209239, 0.14421558, 1.76123068, 1.76123068],\n",
       "       [1.6582662 , 3.91300415, 1.1767138 , 0.59374964, 1.6582662 ],\n",
       "       [1.75742586, 3.60088049, 0.36951534, 1.51475245, 1.75742586],\n",
       "       [1.72502663, 3.92470632, 1.00772342, 0.61751699, 1.72502663],\n",
       "       [1.70141721, 3.89303422, 0.4708888 , 1.23324256, 1.70141721],\n",
       "       [1.6972712 , 4.15168558, 0.86331508, 0.59045694, 1.6972712 ],\n",
       "       [1.61097095, 4.28153147, 0.52710233, 0.9694243 , 1.61097095],\n",
       "       [1.60704555, 4.47214955, 0.75796075, 0.55579859, 1.60704555],\n",
       "       [1.4930782 , 4.67311592, 0.56762465, 0.77310303, 1.4930782 ],\n",
       "       [1.47374337, 4.81808105, 0.69741206, 0.53702015, 1.47374337],\n",
       "       [1.35690619, 5.01348077, 0.60661489, 0.66609196, 1.35690619],\n",
       "       [1.31967815, 5.13302968, 0.68027438, 0.54733965, 1.31967815],\n",
       "       [1.21344552, 5.28714462, 0.65016411, 0.63580023, 1.21344552],\n",
       "       [1.16585255, 5.38430249, 0.69739254, 0.58659986, 1.16585255],\n",
       "       [1.07611492, 5.4917957 , 0.69983041, 0.65614405, 1.07611492],\n",
       "       [1.02811211, 5.562988  , 0.73579944, 0.64498834, 1.02811211],\n",
       "       [0.95705016, 5.63051043, 0.75276622, 0.70262302, 0.95705016],\n",
       "       [0.91567103, 5.67652915, 0.78246291, 0.70966589, 0.91567103],\n",
       "       [0.86293461, 5.71489458, 0.80285361, 0.75638259, 0.86293461]])"
      ]
     },
     "execution_count": 88,
     "metadata": {},
     "output_type": "execute_result"
    }
   ],
   "source": [
    "bloods.G"
   ]
  },
  {
   "cell_type": "code",
   "execution_count": 89,
   "metadata": {},
   "outputs": [
    {
     "data": {
      "text/plain": [
       "array([9., 9., 9., 9., 9., 9., 9., 9., 9., 9., 9., 9., 9., 9., 9., 9., 9.,\n",
       "       9., 9., 9.])"
      ]
     },
     "execution_count": 89,
     "metadata": {},
     "output_type": "execute_result"
    }
   ],
   "source": [
    "bloods.G.sum(axis=1)"
   ]
  },
  {
   "cell_type": "code",
   "execution_count": 90,
   "metadata": {},
   "outputs": [
    {
     "data": {
      "text/plain": [
       "array([[1.        , 0.        , 4.        , 1.        , 1.        ],\n",
       "       [1.41495969, 0.01336644, 1.41495969, 2.74175449, 1.41495969],\n",
       "       [1.29549989, 0.24912207, 2.81490547, 1.34497269, 1.29549989],\n",
       "       [1.37762848, 0.20231316, 1.49564696, 2.54678292, 1.37762848],\n",
       "       [1.3796308 , 0.30469843, 2.40754239, 1.52849758, 1.3796308 ],\n",
       "       [1.37265414, 0.23841622, 1.58336914, 2.43290636, 1.37265414],\n",
       "       [1.43487227, 0.26144002, 2.1675597 , 1.70125575, 1.43487227],\n",
       "       [1.40215979, 0.21234599, 1.6509286 , 2.33240582, 1.40215979],\n",
       "       [1.49142988, 0.19408157, 1.98903301, 1.83402565, 1.49142988],\n",
       "       [1.46788056, 0.16569353, 1.68324869, 2.21529666, 1.46788056],\n",
       "       [1.56477999, 0.13875788, 1.84780499, 1.88387715, 1.56477999],\n",
       "       [1.56366088, 0.12241334, 1.67792023, 2.07234467, 1.56366088],\n",
       "       [1.65610181, 0.1018539 , 1.73830674, 1.84763574, 1.65610181],\n",
       "       [1.67279928, 0.09125191, 1.64505949, 1.91809005, 1.67279928],\n",
       "       [1.75202893, 0.07848372, 1.65455173, 1.76290669, 1.75202893],\n",
       "       [1.77466626, 0.07139857, 1.60159276, 1.77767615, 1.77466626],\n",
       "       [1.83496443, 0.06405916, 1.59330591, 1.67270608, 1.83496443],\n",
       "       [1.85332944, 0.05961293, 1.56384127, 1.66988692, 1.85332944],\n",
       "       [1.89267021, 0.05562228, 1.55533279, 1.6037045 , 1.89267021],\n",
       "       [1.90141376, 0.05307932, 1.54254128, 1.60155188, 1.90141376]])"
      ]
     },
     "execution_count": 90,
     "metadata": {},
     "output_type": "execute_result"
    }
   ],
   "source": [
    "crips.G"
   ]
  },
  {
   "cell_type": "code",
   "execution_count": 91,
   "metadata": {},
   "outputs": [
    {
     "data": {
      "text/plain": [
       "array([7., 7., 7., 7., 7., 7., 7., 7., 7., 7., 7., 7., 7., 7., 7., 7., 7.,\n",
       "       7., 7., 7.])"
      ]
     },
     "execution_count": 91,
     "metadata": {},
     "output_type": "execute_result"
    }
   ],
   "source": [
    "crips.G.sum(axis=1)"
   ]
  },
  {
   "cell_type": "code",
   "execution_count": 92,
   "metadata": {},
   "outputs": [
    {
     "data": {
      "image/png": "[encoded data removed]",
      "text/plain": [
       "<Figure size 432x288 with 1 Axes>"
      ]
     },
     "metadata": {},
     "output_type": "display_data"
    }
   ],
   "source": [
    "bloods = Gang(2, 20, 0.1, np.ones(2), np.ones(2))\n",
    "crips = Gang(z=2, n=20, alpha=0.3, g=np.array([5, 4]), s=np.array([1, 1]))\n",
    "hood = Hood1DG(z=2, n=20, gang_count=2, gang_list=[bloods, crips], p=np.array([1,1]), beta=0.1, gamma=0.5)\n",
    "hood.loop()\n",
    "hood.draw()"
   ]
  },
  {
   "cell_type": "code",
   "execution_count": 93,
   "metadata": {},
   "outputs": [
    {
     "data": {
      "image/png": "[encoded data removed]",
      "text/plain": [
       "<Figure size 432x288 with 1 Axes>"
      ]
     },
     "metadata": {
      "needs_background": "light"
     },
     "output_type": "display_data"
    }
   ],
   "source": [
    "hood.graph()"
   ]
  },
  {
   "cell_type": "code",
   "execution_count": null,
   "metadata": {},
   "outputs": [],
   "source": []
  }
 ],
 "metadata": {
  "kernelspec": {
   "display_name": "Python 3",
   "language": "python",
   "name": "python3"
  },
  "language_info": {
   "codemirror_mode": {
    "name": "ipython",
    "version": 3
   },
   "file_extension": ".py",
   "mimetype": "text/x-python",
   "name": "python",
   "nbconvert_exporter": "python",
   "pygments_lexer": "ipython3",
   "version": "3.7.3"
  }
 },
 "nbformat": 4,
 "nbformat_minor": 2
}
