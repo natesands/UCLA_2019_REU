{
 "cells": [
  {
   "cell_type": "code",
   "execution_count": null,
   "metadata": {},
   "outputs": [],
   "source": [
    "import numpy as np\n",
    "import numpy.ma as ma\n",
    "import matplotlib.pyplot as plt\n",
    "\n",
    "%matplotlib inline\n",
    "\n",
    "class Hood1D:\n",
    "    \n",
    "    def __init__(self, z=2, n=10, p=None, b=None,\n",
    "                s=None, alpha=0.1, beta=0.1,\n",
    "                gamma=0.5):\n",
    "        self.z = z\n",
    "        self.n = n\n",
    "        self.alpha = alpha\n",
    "        self.beta = beta\n",
    "        self.gamma = gamma\n",
    "        \n",
    "        self.p = np.ones(z) if p is None else p\n",
    "        self.b = np.ones(z) if b is None else b\n",
    "        self.s = np.zeros(z) if s is None else s\n",
    "        \n",
    "        self.B = np.zeros((n, z))\n",
    "        self.P = np.zeros((n, z))\n",
    "        self.C = np.zeros((n, z))\n",
    "        self.A = np.zeros((n, z))\n",
    "        \n",
    "        self.P[0] = self.p\n",
    "        self.B[0] = self.b\n",
    "        self.C[0] = self.alpha * b\n",
    "        self.next = 1\n",
    "        \n",
    "    def B_i(self, b, p, i):\n",
    "        sum  = 0\n",
    "        for j in range(len(b)):\n",
    "            sum += pi_ij(p, j)[i] * b[j]\n",
    "        return sum\n",
    "        \n",
    "    def arrests(self, b, p):\n",
    "        return self.beta * p * b\n",
    "    \n",
    "    def step(self):\n",
    "        t = self.next\n",
    "        B_t = [self.B_i(self.B[t-1], self.P[t-1], i) for i in range(z)]\\\n",
    "                - self.arrests(self.B[t-1], self.P[t-1]) + self.s\n",
    "        self.B[i] = B_t\n",
    "        self.P[i] = self.p + self.gamma * self.C[i-1]\n",
    "        self.C[i] = self.alpha * B_t\n",
    "        self.A[i] = self.arrests(self.B[i-1], self.P[i-1])\n",
    "        \n",
    "        self.next += 1\n",
    "        \n",
    "    def loop(self):\n",
    "        for i in range(self.n - 1):\n",
    "            self.step()\n",
    "            \n",
    "    def draw(self):\n",
    "        a = self.B\n",
    "        plt.imshow(a, cmap='plasma', alpha=0.7)\n",
    "        plt.xticks([])\n",
    "        plt.yticks([])\n",
    "        "
   ]
  },
  {
   "cell_type": "code",
   "execution_count": 1,
   "metadata": {},
   "outputs": [],
   "source": [
    "import numpy as np"
   ]
  },
  {
   "cell_type": "code",
   "execution_count": 6,
   "metadata": {},
   "outputs": [],
   "source": [
    "def pi_ij(p, i):\n",
    "    x = p[i] - p\n",
    "    print(x)\n",
    "    x = np.exp(x)\n",
    "    print(x)\n",
    "    x = x / x.sum()\n",
    "    return x\n",
    "    \n",
    "    "
   ]
  },
  {
   "cell_type": "code",
   "execution_count": 7,
   "metadata": {},
   "outputs": [
    {
     "name": "stdout",
     "output_type": "stream",
     "text": [
      "[ 2  3 -1  0]\n",
      "[ 7.3890561  20.08553692  0.36787944  1.        ]\n"
     ]
    },
    {
     "data": {
      "text/plain": [
       "array([0.25618664, 0.69638749, 0.01275478, 0.03467109])"
      ]
     },
     "execution_count": 7,
     "metadata": {},
     "output_type": "execute_result"
    }
   ],
   "source": [
    "p = np.array([1, 0, 4, 3])\n",
    "pi_ij(p, 3)"
   ]
  },
  {
   "cell_type": "code",
   "execution_count": 28,
   "metadata": {},
   "outputs": [
    {
     "data": {
      "text/plain": [
       "28.842472463289763"
      ]
     },
     "execution_count": 28,
     "metadata": {},
     "output_type": "execute_result"
    }
   ],
   "source": [
    "np.exp(2)+np.exp(3)+np.exp(-1)+np.exp(0)"
   ]
  },
  {
   "cell_type": "code",
   "execution_count": 30,
   "metadata": {},
   "outputs": [
    {
     "data": {
      "text/plain": [
       "0.25618663962790716"
      ]
     },
     "execution_count": 30,
     "metadata": {},
     "output_type": "execute_result"
    }
   ],
   "source": [
    "np.exp(2) / 28.842472463289763"
   ]
  },
  {
   "cell_type": "code",
   "execution_count": 8,
   "metadata": {},
   "outputs": [
    {
     "name": "stdout",
     "output_type": "stream",
     "text": [
      "[3 4 0 1]\n",
      "[20.08553692 54.59815003  1.          2.71828183]\n"
     ]
    },
    {
     "data": {
      "text/plain": [
       "array([0.25618664, 0.69638749, 0.01275478, 0.03467109])"
      ]
     },
     "execution_count": 8,
     "metadata": {},
     "output_type": "execute_result"
    }
   ],
   "source": [
    "pi_ij(p, 2)"
   ]
  },
  {
   "cell_type": "code",
   "execution_count": 9,
   "metadata": {},
   "outputs": [
    {
     "name": "stdout",
     "output_type": "stream",
     "text": [
      "[-1  0 -4 -3]\n",
      "[0.36787944 1.         0.01831564 0.04978707]\n"
     ]
    },
    {
     "data": {
      "text/plain": [
       "array([0.25618664, 0.69638749, 0.01275478, 0.03467109])"
      ]
     },
     "execution_count": 9,
     "metadata": {},
     "output_type": "execute_result"
    }
   ],
   "source": [
    "pi_ij(p, 1)"
   ]
  },
  {
   "cell_type": "code",
   "execution_count": 25,
   "metadata": {},
   "outputs": [
    {
     "name": "stdout",
     "output_type": "stream",
     "text": [
      "[ 0  1 -3 -2]\n",
      "[1.         2.71828183 0.04978707 0.13533528]\n"
     ]
    },
    {
     "data": {
      "text/plain": [
       "array([0.25618664, 0.69638749, 0.01275478, 0.03467109])"
      ]
     },
     "execution_count": 25,
     "metadata": {},
     "output_type": "execute_result"
    }
   ],
   "source": [
    "pi_ij(p, 0)"
   ]
  },
  {
   "cell_type": "code",
   "execution_count": 11,
   "metadata": {},
   "outputs": [
    {
     "data": {
      "text/plain": [
       "array([ 2,  3, -1,  0])"
      ]
     },
     "execution_count": 11,
     "metadata": {},
     "output_type": "execute_result"
    }
   ],
   "source": [
    "3 - p"
   ]
  },
  {
   "cell_type": "code",
   "execution_count": 12,
   "metadata": {},
   "outputs": [
    {
     "data": {
      "text/plain": [
       "array([ 7.3890561 , 20.08553692,  0.36787944,  1.        ])"
      ]
     },
     "execution_count": 12,
     "metadata": {},
     "output_type": "execute_result"
    }
   ],
   "source": [
    "np.exp(3-p)"
   ]
  },
  {
   "cell_type": "code",
   "execution_count": 13,
   "metadata": {},
   "outputs": [],
   "source": [
    "x = sum(np.exp(3-p))"
   ]
  },
  {
   "cell_type": "code",
   "execution_count": 14,
   "metadata": {},
   "outputs": [
    {
     "data": {
      "text/plain": [
       "28.842472463289763"
      ]
     },
     "execution_count": 14,
     "metadata": {},
     "output_type": "execute_result"
    }
   ],
   "source": [
    "x"
   ]
  },
  {
   "cell_type": "code",
   "execution_count": 15,
   "metadata": {},
   "outputs": [
    {
     "data": {
      "text/plain": [
       "0.2561866396649827"
      ]
     },
     "execution_count": 15,
     "metadata": {},
     "output_type": "execute_result"
    }
   ],
   "source": [
    "7.3890561 / x"
   ]
  },
  {
   "cell_type": "code",
   "execution_count": 18,
   "metadata": {},
   "outputs": [],
   "source": [
    "x = sum(np.exp(3-p))"
   ]
  },
  {
   "cell_type": "code",
   "execution_count": 21,
   "metadata": {},
   "outputs": [],
   "source": [
    "x = np.exp(0-p)"
   ]
  },
  {
   "cell_type": "code",
   "execution_count": 22,
   "metadata": {},
   "outputs": [
    {
     "data": {
      "text/plain": [
       "array([0.36787944, 1.        , 0.01831564, 0.04978707])"
      ]
     },
     "execution_count": 22,
     "metadata": {},
     "output_type": "execute_result"
    }
   ],
   "source": [
    "x"
   ]
  },
  {
   "cell_type": "code",
   "execution_count": 23,
   "metadata": {},
   "outputs": [],
   "source": [
    "sum = x.sum()"
   ]
  },
  {
   "cell_type": "code",
   "execution_count": 24,
   "metadata": {},
   "outputs": [
    {
     "data": {
      "text/plain": [
       "array([0.25618664, 0.69638749, 0.01275478, 0.03467109])"
      ]
     },
     "execution_count": 24,
     "metadata": {},
     "output_type": "execute_result"
    }
   ],
   "source": [
    "x / sum"
   ]
  },
  {
   "cell_type": "code",
   "execution_count": 31,
   "metadata": {},
   "outputs": [
    {
     "data": {
      "text/plain": [
       "array([1, 0, 4, 3])"
      ]
     },
     "execution_count": 31,
     "metadata": {},
     "output_type": "execute_result"
    }
   ],
   "source": [
    "p"
   ]
  },
  {
   "cell_type": "code",
   "execution_count": 32,
   "metadata": {},
   "outputs": [
    {
     "name": "stdout",
     "output_type": "stream",
     "text": [
      "[3 4 0 1]\n",
      "[20.08553692 54.59815003  1.          2.71828183]\n"
     ]
    },
    {
     "data": {
      "text/plain": [
       "array([0.25618664, 0.69638749, 0.01275478, 0.03467109])"
      ]
     },
     "execution_count": 32,
     "metadata": {},
     "output_type": "execute_result"
    }
   ],
   "source": [
    "pi_ij(p, 2)"
   ]
  },
  {
   "cell_type": "code",
   "execution_count": 33,
   "metadata": {},
   "outputs": [
    {
     "name": "stdout",
     "output_type": "stream",
     "text": [
      "[ 0  1 -3 -2]\n",
      "[1.         2.71828183 0.04978707 0.13533528]\n"
     ]
    },
    {
     "data": {
      "text/plain": [
       "array([0.25618664, 0.69638749, 0.01275478, 0.03467109])"
      ]
     },
     "execution_count": 33,
     "metadata": {},
     "output_type": "execute_result"
    }
   ],
   "source": [
    "pi_ij(p, 0)"
   ]
  },
  {
   "cell_type": "code",
   "execution_count": null,
   "metadata": {},
   "outputs": [],
   "source": [
    "def pi_ij(p, i, j):\n",
    "    x = p[i] - p\n",
    "    print(x)\n",
    "    x = np.exp(x)\n",
    "    print(x)\n",
    "    x = x / x.sum()\n",
    "    return x"
   ]
  },
  {
   "cell_type": "code",
   "execution_count": 34,
   "metadata": {},
   "outputs": [
    {
     "data": {
      "text/plain": [
       "array([1, 0, 4, 3])"
      ]
     },
     "execution_count": 34,
     "metadata": {},
     "output_type": "execute_result"
    }
   ],
   "source": [
    "p"
   ]
  },
  {
   "cell_type": "code",
   "execution_count": 45,
   "metadata": {},
   "outputs": [
    {
     "data": {
      "text/plain": [
       "0.6931471805599453"
      ]
     },
     "execution_count": 45,
     "metadata": {},
     "output_type": "execute_result"
    }
   ],
   "source": [
    "np.log(1 + np.exp(0))"
   ]
  },
  {
   "cell_type": "code",
   "execution_count": 46,
   "metadata": {},
   "outputs": [
    {
     "data": {
      "text/plain": [
       "1.3132616875182228"
      ]
     },
     "execution_count": 46,
     "metadata": {},
     "output_type": "execute_result"
    }
   ],
   "source": [
    "np.log(1 + np.exp(1))"
   ]
  },
  {
   "cell_type": "code",
   "execution_count": 47,
   "metadata": {},
   "outputs": [
    {
     "data": {
      "text/plain": [
       "0.04858735157374196"
      ]
     },
     "execution_count": 47,
     "metadata": {},
     "output_type": "execute_result"
    }
   ],
   "source": [
    "np.log(1 + np.exp(-3))"
   ]
  },
  {
   "cell_type": "code",
   "execution_count": 48,
   "metadata": {},
   "outputs": [
    {
     "data": {
      "text/plain": [
       "0.1269280110429726"
      ]
     },
     "execution_count": 48,
     "metadata": {},
     "output_type": "execute_result"
    }
   ],
   "source": [
    "np.log(1 + np.exp(-2))"
   ]
  },
  {
   "cell_type": "code",
   "execution_count": 41,
   "metadata": {},
   "outputs": [],
   "source": [
    "x = np.array([2.1269280110429727, 3.048587351573742, 0.31326168751822286, 0.6931471805599453])"
   ]
  },
  {
   "cell_type": "code",
   "execution_count": 49,
   "metadata": {},
   "outputs": [],
   "source": [
    "y = x / x.sum()"
   ]
  },
  {
   "cell_type": "code",
   "execution_count": 50,
   "metadata": {},
   "outputs": [
    {
     "data": {
      "text/plain": [
       "array([0.34405598, 0.49314538, 0.05067382, 0.11212483])"
      ]
     },
     "execution_count": 50,
     "metadata": {},
     "output_type": "execute_result"
    }
   ],
   "source": [
    "y"
   ]
  },
  {
   "cell_type": "code",
   "execution_count": 51,
   "metadata": {},
   "outputs": [],
   "source": [
    "z = np.array([0.6931471805599453, 1.3132616875182228, 0.04858735157374196, 0.1269280110429726])"
   ]
  },
  {
   "cell_type": "code",
   "execution_count": 52,
   "metadata": {},
   "outputs": [
    {
     "data": {
      "text/plain": [
       "array([0.31767702, 0.60188235, 0.02226812, 0.05817251])"
      ]
     },
     "execution_count": 52,
     "metadata": {},
     "output_type": "execute_result"
    }
   ],
   "source": [
    "z / z.sum()"
   ]
  },
  {
   "cell_type": "code",
   "execution_count": 65,
   "metadata": {},
   "outputs": [],
   "source": [
    "def pi_ij(p, i, j):\n",
    "    x = np.log(1 + np.exp(p[i] - p[j]))\n",
    "    sum = 0\n",
    "    for ind in range(len(p)):\n",
    "        sum += np.log(1 + np.exp(p[i] - p[ind]))\n",
    "    return x / sum\n",
    "        "
   ]
  },
  {
   "cell_type": "code",
   "execution_count": 66,
   "metadata": {},
   "outputs": [
    {
     "data": {
      "text/plain": [
       "array([1, 0, 4, 3])"
      ]
     },
     "execution_count": 66,
     "metadata": {},
     "output_type": "execute_result"
    }
   ],
   "source": [
    "p"
   ]
  },
  {
   "cell_type": "code",
   "execution_count": 67,
   "metadata": {},
   "outputs": [
    {
     "data": {
      "text/plain": [
       "0.44286181028772337"
      ]
     },
     "execution_count": 67,
     "metadata": {},
     "output_type": "execute_result"
    }
   ],
   "source": [
    "pi_ij(p, 2, 1)"
   ]
  },
  {
   "cell_type": "code",
   "execution_count": 72,
   "metadata": {},
   "outputs": [
    {
     "data": {
      "text/plain": [
       "array([1, 0, 4, 3])"
      ]
     },
     "execution_count": 72,
     "metadata": {},
     "output_type": "execute_result"
    }
   ],
   "source": [
    "p"
   ]
  },
  {
   "cell_type": "code",
   "execution_count": 71,
   "metadata": {},
   "outputs": [
    {
     "data": {
      "text/plain": [
       "[0.34405598187085745,\n",
       " 0.49314537639214384,\n",
       " 0.05067381543804696,\n",
       " 0.11212482629895186]"
      ]
     },
     "execution_count": 71,
     "metadata": {},
     "output_type": "execute_result"
    }
   ],
   "source": [
    "[pi_ij(p, 3, z) for z in range(len(p))]"
   ]
  },
  {
   "cell_type": "code",
   "execution_count": 73,
   "metadata": {},
   "outputs": [
    {
     "data": {
      "text/plain": [
       "[0.31767701683169675,\n",
       " 0.6018823518449975,\n",
       " 0.02226812044626693,\n",
       " 0.05817251087703881]"
      ]
     },
     "execution_count": 73,
     "metadata": {},
     "output_type": "execute_result"
    }
   ],
   "source": [
    "[pi_ij(p, 0, z) for z in range(len(p))]"
   ]
  },
  {
   "cell_type": "code",
   "execution_count": 74,
   "metadata": {},
   "outputs": [
    {
     "data": {
      "text/plain": [
       "[0.29190962314652574,\n",
       " 0.6459019418088281,\n",
       " 0.01691282027048475,\n",
       " 0.04527561477416136]"
      ]
     },
     "execution_count": 74,
     "metadata": {},
     "output_type": "execute_result"
    }
   ],
   "source": [
    "[pi_ij(p, 1, z) for z in range(len(p))]"
   ]
  },
  {
   "cell_type": "code",
   "execution_count": 75,
   "metadata": {},
   "outputs": [],
   "source": [
    "def pi_ij(p, i):\n",
    "    x = np.log(1 + np.exp(p[i] - p))\n",
    "    return x / x.sum()"
   ]
  },
  {
   "cell_type": "code",
   "execution_count": 85,
   "metadata": {},
   "outputs": [
    {
     "data": {
      "text/plain": [
       "1.0000000000000002"
      ]
     },
     "execution_count": 85,
     "metadata": {},
     "output_type": "execute_result"
    }
   ],
   "source": [
    "pi_ij(p, 3).sum()"
   ]
  },
  {
   "cell_type": "code",
   "execution_count": 86,
   "metadata": {},
   "outputs": [
    {
     "data": {
      "text/plain": [
       "array([1, 0, 4, 3])"
      ]
     },
     "execution_count": 86,
     "metadata": {},
     "output_type": "execute_result"
    }
   ],
   "source": [
    "p"
   ]
  },
  {
   "cell_type": "code",
   "execution_count": 87,
   "metadata": {},
   "outputs": [],
   "source": [
    "b = np.array([2, 6, 1, 0])"
   ]
  },
  {
   "cell_type": "code",
   "execution_count": 88,
   "metadata": {},
   "outputs": [],
   "source": [
    "def b_i(b, p, i):\n",
    "    sum  = 0\n",
    "    for j in range(len(b)):\n",
    "        sum += pi_ij(p, j)[i] * b[j]\n",
    "    return sum"
   ]
  },
  {
   "cell_type": "code",
   "execution_count": 89,
   "metadata": {},
   "outputs": [
    {
     "data": {
      "text/plain": [
       "2.7228129018079814"
      ]
     },
     "execution_count": 89,
     "metadata": {},
     "output_type": "execute_result"
    }
   ],
   "source": [
    "b_i(b, p, 0)"
   ]
  },
  {
   "cell_type": "code",
   "execution_count": 90,
   "metadata": {},
   "outputs": [
    {
     "data": {
      "text/plain": [
       "5.522038164830687"
      ]
     },
     "execution_count": 90,
     "metadata": {},
     "output_type": "execute_result"
    }
   ],
   "source": [
    "b_i(b, p, 1)"
   ]
  },
  {
   "cell_type": "code",
   "execution_count": 91,
   "metadata": {},
   "outputs": [
    {
     "data": {
      "text/plain": [
       "0.22240862328354732"
      ]
     },
     "execution_count": 91,
     "metadata": {},
     "output_type": "execute_result"
    }
   ],
   "source": [
    "b_i(b, p, 2)"
   ]
  },
  {
   "cell_type": "code",
   "execution_count": 92,
   "metadata": {},
   "outputs": [
    {
     "data": {
      "text/plain": [
       "0.5327403100777841"
      ]
     },
     "execution_count": 92,
     "metadata": {},
     "output_type": "execute_result"
    }
   ],
   "source": [
    "b_i(b, p, 3)"
   ]
  },
  {
   "cell_type": "code",
   "execution_count": 95,
   "metadata": {},
   "outputs": [
    {
     "data": {
      "text/plain": [
       "array([2.7228129 , 5.52203816, 0.22240862, 0.53274031])"
      ]
     },
     "execution_count": 95,
     "metadata": {},
     "output_type": "execute_result"
    }
   ],
   "source": [
    "np.array([b_i(b, p, j) for j in range(len(b))])"
   ]
  },
  {
   "cell_type": "code",
   "execution_count": 97,
   "metadata": {},
   "outputs": [],
   "source": [
    "b = [20, 3, 1, 5]\n",
    "s = np.array([b_i(b, p, j) for j in range(len(b))])"
   ]
  },
  {
   "cell_type": "code",
   "execution_count": 98,
   "metadata": {},
   "outputs": [
    {
     "data": {
      "text/plain": [
       "29.0"
      ]
     },
     "execution_count": 98,
     "metadata": {},
     "output_type": "execute_result"
    }
   ],
   "source": [
    "s.sum()"
   ]
  },
  {
   "cell_type": "code",
   "execution_count": 99,
   "metadata": {},
   "outputs": [
    {
     "data": {
      "text/plain": [
       "array([ 9.28555024, 16.88394155,  0.82586541,  2.00464279])"
      ]
     },
     "execution_count": 99,
     "metadata": {},
     "output_type": "execute_result"
    }
   ],
   "source": [
    "s"
   ]
  },
  {
   "cell_type": "code",
   "execution_count": null,
   "metadata": {},
   "outputs": [],
   "source": []
  },
  {
   "cell_type": "code",
   "execution_count": 1,
   "metadata": {},
   "outputs": [],
   "source": [
    "import numpy as np\n",
    "import numpy.ma as ma\n",
    "import matplotlib.pyplot as plt\n",
    "\n",
    "%matplotlib inline\n",
    "\n",
    "class Hood1D:\n",
    "    \n",
    "    def __init__(self, z=2, n=10, p=None, b=None,\n",
    "                s=None, alpha=0.1, beta=0.1,\n",
    "                gamma=0.5):\n",
    "        self.z = z\n",
    "        self.n = n\n",
    "        self.alpha = alpha\n",
    "        self.beta = beta\n",
    "        self.gamma = gamma\n",
    "        \n",
    "        self.p = np.ones(z) if p is None else p\n",
    "        self.b = np.ones(z) if b is None else b\n",
    "        self.s = np.zeros(z) if s is None else s\n",
    "        \n",
    "        self.B = np.zeros((n, z))\n",
    "        self.P = np.zeros((n, z))\n",
    "        self.C = np.zeros((n, z))\n",
    "        self.A = np.zeros((n, z))\n",
    "        \n",
    "        self.P[0] = self.p\n",
    "        self.B[0] = self.b\n",
    "        self.C[0] = self.alpha * self.b\n",
    "        self.next = 1\n",
    "        \n",
    "    def pi_ij(self, p, i):\n",
    "        x = np.log(1 + np.exp(p[i] - p))\n",
    "        return x / x.sum()\n",
    "        \n",
    "    def B_i(self, b, p, i):\n",
    "        sum  = 0\n",
    "        for j in range(len(b)):\n",
    "            sum += self.pi_ij(p, j)[i] * b[j]\n",
    "        return sum\n",
    "        \n",
    "    def arrests(self, b, p):\n",
    "        return self.beta * p * b\n",
    "    \n",
    "    def step(self):\n",
    "        t = self.next\n",
    "        p_ = self.P[t-1]\n",
    "        b_ = self.B[t-1]\n",
    "        B_t = np.array([self.B_i(b_, p_, i) for i in range(self.z)]) - self.arrests(b_, p_) + self.s\n",
    "        self.B[t] = B_t\n",
    "        self.P[t] = self.p + self.gamma * self.C[t-1]\n",
    "        self.C[t] = self.alpha * B_t\n",
    "        self.A[t] = self.arrests(b_, p_)\n",
    "        \n",
    "        self.next += 1\n",
    "        \n",
    "    def loop(self):\n",
    "        for i in range(self.n - 1):\n",
    "            self.step()\n",
    "            \n",
    "    def draw(self):\n",
    "        a = self.B\n",
    "        plt.imshow(a, cmap='plasma', alpha=0.7)\n",
    "        plt.xticks([])\n",
    "        plt.yticks([])\n",
    "        "
   ]
  },
  {
   "cell_type": "code",
   "execution_count": 143,
   "metadata": {},
   "outputs": [],
   "source": [
    "rnd = np.random.RandomState(42)"
   ]
  },
  {
   "cell_type": "code",
   "execution_count": 144,
   "metadata": {},
   "outputs": [
    {
     "data": {
      "image/png": "[encoded data removed]",
      "text/plain": [
       "<Figure size 432x288 with 1 Axes>"
      ]
     },
     "metadata": {},
     "output_type": "display_data"
    }
   ],
   "source": [
    "def pi_ij(p, i):\n",
    "    x = np.log(1 + np.exp(p[i] - p))\n",
    "    return x / x.sum()"
   ]
  },
  {
   "cell_type": "code",
   "execution_count": 145,
   "metadata": {},
   "outputs": [
    {
     "data": {
      "text/plain": [
       "[<matplotlib.lines.Line2D at 0x1178365f8>]"
      ]
     },
     "execution_count": 145,
     "metadata": {},
     "output_type": "execute_result"
    },
    {
     "data": {
      "image/png": "[encoded data removed]",
      "text/plain": [
       "<Figure size 432x288 with 1 Axes>"
      ]
     },
     "metadata": {
      "needs_background": "light"
     },
     "output_type": "display_data"
    }
   ],
   "source": [
    "seq18 = hood.B[:, 18]\n",
    "fig = plt.figure()\n",
    "ax = plt.axes()\n",
    "ax.plot(range(len(seq18)), seq18, color='red')"
   ]
  },
  {
   "cell_type": "code",
   "execution_count": 146,
   "metadata": {},
   "outputs": [
    {
     "data": {
      "text/plain": [
       "[<matplotlib.lines.Line2D at 0x1181c1390>]"
      ]
     },
     "execution_count": 146,
     "metadata": {},
     "output_type": "execute_result"
    },
    {
     "data": {
      "image/png": "[encoded data removed]",
      "text/plain": [
       "<Figure size 432x288 with 1 Axes>"
      ]
     },
     "metadata": {
      "needs_background": "light"
     },
     "output_type": "display_data"
    }
   ],
   "source": [
    "seq15 = hood.B[:, 15]\n",
    "fig = plt.figure()\n",
    "ax = plt.axes()\n",
    "ax.plot(range(len(seq15)), seq15, color='red')"
   ]
  },
  {
   "cell_type": "code",
   "execution_count": 147,
   "metadata": {},
   "outputs": [
    {
     "data": {
      "text/plain": [
       "[<matplotlib.lines.Line2D at 0x1180ca4e0>]"
      ]
     },
     "execution_count": 147,
     "metadata": {},
     "output_type": "execute_result"
    },
    {
     "data": {
      "image/png": "[encoded data removed]",
      "text/plain": [
       "<Figure size 432x288 with 1 Axes>"
      ]
     },
     "metadata": {
      "needs_background": "light"
     },
     "output_type": "display_data"
    }
   ],
   "source": [
    "seq8= hood.B[:, 8]\n",
    "fig = plt.figure()\n",
    "ax = plt.axes()\n",
    "ax.plot(range(len(seq8)), seq8, color='red')"
   ]
  },
  {
   "cell_type": "code",
   "execution_count": 151,
   "metadata": {},
   "outputs": [
    {
     "data": {
      "text/plain": [
       "[<matplotlib.lines.Line2D at 0x11855b710>]"
      ]
     },
     "execution_count": 151,
     "metadata": {},
     "output_type": "execute_result"
    },
    {
     "data": {
      "image/png": "[encoded data removed]",
      "text/plain": [
       "<Figure size 432x288 with 1 Axes>"
      ]
     },
     "metadata": {
      "needs_background": "light"
     },
     "output_type": "display_data"
    }
   ],
   "source": [
    "seq1= hood.B[:, 1]\n",
    "fig = plt.figure()\n",
    "ax = plt.axes()\n",
    "ax.plot(range(len(seq1)), seq1, color='red')"
   ]
  },
  {
   "cell_type": "code",
   "execution_count": 148,
   "metadata": {},
   "outputs": [
    {
     "data": {
      "text/plain": [
       "array([  2.078563  , -15.88423662,   7.47909154,  -3.80678791,\n",
       "         6.078563  ,  -0.80464438, -15.46649676,  -0.62688812,\n",
       "         3.05801205,  -7.04320593,  -7.89339572,  -0.94198795,\n",
       "         0.34911422, -21.15596854,   1.81075405,  -6.0431916 ,\n",
       "       -25.41405042,   3.05801205,  -3.8620385 , -26.42004384])"
      ]
     },
     "execution_count": 148,
     "metadata": {},
     "output_type": "execute_result"
    }
   ],
   "source": [
    "hood.B[0] - hood.B[-1]"
   ]
  },
  {
   "cell_type": "code",
   "execution_count": 149,
   "metadata": {},
   "outputs": [
    {
     "data": {
      "text/plain": [
       "[<matplotlib.lines.Line2D at 0x1183a7be0>]"
      ]
     },
     "execution_count": 149,
     "metadata": {},
     "output_type": "execute_result"
    },
    {
     "data": {
      "image/png": "[encoded data removed]",
      "text/plain": [
       "<Figure size 432x288 with 1 Axes>"
      ]
     },
     "metadata": {
      "needs_background": "light"
     },
     "output_type": "display_data"
    }
   ],
   "source": [
    "# overall crime\n",
    "crime = hood.C.sum(axis=1)\n",
    "fig = plt.figure()\n",
    "ax = plt.axes()\n",
    "ax.plot(range(len(crime)), crime, color='blue')"
   ]
  },
  {
   "cell_type": "code",
   "execution_count": 152,
   "metadata": {},
   "outputs": [
    {
     "data": {
      "text/plain": [
       "array([0, 3, 1, 1, 0, 1, 4, 1, 3, 3, 3, 3, 4, 2, 0, 3, 1, 3, 1, 1])"
      ]
     },
     "execution_count": 152,
     "metadata": {},
     "output_type": "execute_result"
    }
   ],
   "source": [
    "hood.s"
   ]
  },
  {
   "cell_type": "code",
   "execution_count": 10,
   "metadata": {},
   "outputs": [],
   "source": [
    "hood2 = Hood1D()"
   ]
  },
  {
   "cell_type": "code",
   "execution_count": 11,
   "metadata": {},
   "outputs": [
    {
     "data": {
      "image/png": "[encoded data removed]",
      "text/plain": [
       "<Figure size 432x288 with 1 Axes>"
      ]
     },
     "metadata": {},
     "output_type": "display_data"
    }
   ],
   "source": [
    "hood2.loop()\n",
    "hood2.draw()"
   ]
  },
  {
   "cell_type": "code",
   "execution_count": 12,
   "metadata": {},
   "outputs": [
    {
     "data": {
      "text/plain": [
       "array([[1.        , 1.        ],\n",
       "       [0.9       , 0.9       ],\n",
       "       [0.8055    , 0.8055    ],\n",
       "       [0.72132525, 0.72132525],\n",
       "       [0.64628759, 0.64628759],\n",
       "       [0.57932791, 0.57932791],\n",
       "       [0.51952306, 0.51952306],\n",
       "       [0.46606588, 0.46606588],\n",
       "       [0.41824863, 0.41824863],\n",
       "       [0.37544911, 0.37544911]])"
      ]
     },
     "execution_count": 12,
     "metadata": {},
     "output_type": "execute_result"
    }
   ],
   "source": [
    "hood2.B"
   ]
  },
  {
   "cell_type": "code",
   "execution_count": 13,
   "metadata": {},
   "outputs": [
    {
     "data": {
      "text/plain": [
       "array([[0.        , 0.        ],\n",
       "       [0.1       , 0.1       ],\n",
       "       [0.0945    , 0.0945    ],\n",
       "       [0.08417475, 0.08417475],\n",
       "       [0.07503766, 0.07503766],\n",
       "       [0.06695968, 0.06695968],\n",
       "       [0.05980485, 0.05980485],\n",
       "       [0.05345718, 0.05345718],\n",
       "       [0.04781725, 0.04781725],\n",
       "       [0.04279952, 0.04279952]])"
      ]
     },
     "execution_count": 13,
     "metadata": {},
     "output_type": "execute_result"
    }
   ],
   "source": [
    "hood2.A"
   ]
  },
  {
   "cell_type": "code",
   "execution_count": 15,
   "metadata": {},
   "outputs": [
    {
     "data": {
      "text/plain": [
       "array([[0.9       , 0.9       ],\n",
       "       [0.8055    , 0.8055    ],\n",
       "       [0.72132525, 0.72132525],\n",
       "       [0.64628759, 0.64628759],\n",
       "       [0.57932791, 0.57932791],\n",
       "       [0.51952306, 0.51952306],\n",
       "       [0.46606588, 0.46606588],\n",
       "       [0.41824863, 0.41824863],\n",
       "       [0.37544911, 0.37544911]])"
      ]
     },
     "execution_count": 15,
     "metadata": {},
     "output_type": "execute_result"
    }
   ],
   "source": [
    "hood2.B[:-1] - hood2.A[1:]"
   ]
  },
  {
   "cell_type": "code",
   "execution_count": 7,
   "metadata": {},
   "outputs": [
    {
     "data": {
      "image/png": "[encoded data removed]",
      "text/plain": [
       "<Figure size 432x288 with 1 Axes>"
      ]
     },
     "metadata": {},
     "output_type": "display_data"
    }
   ],
   "source": [
    "p = np.array([8, 1, 3, 4, 2])\n",
    "b = np.array([0, 0, 4, 2, 0])\n",
    "s = np.array([8, 0, 1, 1, 0])\n",
    "hood2 = Hood1D(5, 20, p, b, s, alpha=.1, beta=.11, gamma=0.5)\n",
    "hood2.loop()\n",
    "hood2.draw()"
   ]
  },
  {
   "cell_type": "code",
   "execution_count": 40,
   "metadata": {},
   "outputs": [
    {
     "data": {
      "text/plain": [
       "array([0.        , 8.01107337, 1.84595936, 6.51611653, 2.94740242,\n",
       "       5.65524056, 3.59462492, 5.15924855, 3.9714561 , 4.87357463,\n",
       "       4.18958493, 4.70908111, 4.31542228, 4.61439015, 4.38788857,\n",
       "       4.55988695, 4.42958302, 4.52851901, 4.453562  , 4.51046713])"
      ]
     },
     "execution_count": 40,
     "metadata": {},
     "output_type": "execute_result"
    }
   ],
   "source": [
    "hood2.B[:, 0]"
   ]
  },
  {
   "cell_type": "code",
   "execution_count": 51,
   "metadata": {},
   "outputs": [
    {
     "data": {
      "text/plain": [
       "[<matplotlib.lines.Line2D at 0x11705e940>]"
      ]
     },
     "execution_count": 51,
     "metadata": {},
     "output_type": "execute_result"
    },
    {
     "data": {
      "image/png": "[encoded data removed]",
      "text/plain": [
       "<Figure size 432x288 with 1 Axes>"
      ]
     },
     "metadata": {
      "needs_background": "light"
     },
     "output_type": "display_data"
    }
   ],
   "source": [
    "seq0 = hood2.B[:, 0]\n",
    "fig = plt.figure()\n",
    "ax = plt.axes()\n",
    "ax.plot(range(len(seq0)), seq0, color='blue')"
   ]
  },
  {
   "cell_type": "code",
   "execution_count": 114,
   "metadata": {},
   "outputs": [
    {
     "data": {
      "image/png": "[encoded data removed]",
      "text/plain": [
       "<Figure size 432x288 with 1 Axes>"
      ]
     },
     "metadata": {},
     "output_type": "display_data"
    }
   ],
   "source": [
    "p = np.array([9, 1, 3, 4, 2])\n",
    "b = np.array([0, 0, 4, 2, 0])\n",
    "s = np.array([9, 0, 1, 1, 1])\n",
    "hood2 = Hood1D(5, 20, p, b, s, beta=.11)\n",
    "hood2.loop()\n",
    "hood2.draw()"
   ]
  },
  {
   "cell_type": "code",
   "execution_count": 92,
   "metadata": {},
   "outputs": [
    {
     "data": {
      "text/plain": [
       "[<matplotlib.lines.Line2D at 0x1180b4be0>]"
      ]
     },
     "execution_count": 92,
     "metadata": {},
     "output_type": "execute_result"
    },
    {
     "data": {
      "image/png": "[encoded data removed]",
      "text/plain": [
       "<Figure size 432x288 with 1 Axes>"
      ]
     },
     "metadata": {
      "needs_background": "light"
     },
     "output_type": "display_data"
    }
   ],
   "source": [
    "seq0 = hood2.B[:, 0]\n",
    "fig = plt.figure()\n",
    "ax = plt.axes()\n",
    "ax.plot(range(len(seq0)), seq0, color='blue')"
   ]
  },
  {
   "cell_type": "code",
   "execution_count": 93,
   "metadata": {},
   "outputs": [
    {
     "data": {
      "text/plain": [
       "[<matplotlib.lines.Line2D at 0x117fe62e8>]"
      ]
     },
     "execution_count": 93,
     "metadata": {},
     "output_type": "execute_result"
    },
    {
     "data": {
      "image/png": "[encoded data removed]",
      "text/plain": [
       "<Figure size 432x288 with 1 Axes>"
      ]
     },
     "metadata": {
      "needs_background": "light"
     },
     "output_type": "display_data"
    }
   ],
   "source": [
    "seq1 = hood2.B[:, 1]\n",
    "fig = plt.figure()\n",
    "ax = plt.axes()\n",
    "ax.plot(range(len(seq1)), seq1, color='blue')"
   ]
  },
  {
   "cell_type": "code",
   "execution_count": 94,
   "metadata": {},
   "outputs": [
    {
     "data": {
      "text/plain": [
       "[<matplotlib.lines.Line2D at 0x118219470>]"
      ]
     },
     "execution_count": 94,
     "metadata": {},
     "output_type": "execute_result"
    },
    {
     "data": {
      "image/png": "[encoded data removed]",
      "text/plain": [
       "<Figure size 432x288 with 1 Axes>"
      ]
     },
     "metadata": {
      "needs_background": "light"
     },
     "output_type": "display_data"
    }
   ],
   "source": [
    "seq2 = hood2.B[:, 2]\n",
    "fig = plt.figure()\n",
    "ax = plt.axes()\n",
    "ax.plot(range(len(seq2)), seq2, color='blue')"
   ]
  },
  {
   "cell_type": "code",
   "execution_count": 95,
   "metadata": {
    "scrolled": true
   },
   "outputs": [
    {
     "data": {
      "text/plain": [
       "[<matplotlib.lines.Line2D at 0x117d27cc0>]"
      ]
     },
     "execution_count": 95,
     "metadata": {},
     "output_type": "execute_result"
    },
    {
     "data": {
      "image/png": "[encoded data removed]",
      "text/plain": [
       "<Figure size 432x288 with 1 Axes>"
      ]
     },
     "metadata": {
      "needs_background": "light"
     },
     "output_type": "display_data"
    }
   ],
   "source": [
    "seq4 = hood2.B[:, 4]\n",
    "fig = plt.figure()\n",
    "ax = plt.axes()\n",
    "ax.plot(range(len(seq4)), seq4, color='blue')"
   ]
  },
  {
   "cell_type": "code",
   "execution_count": 116,
   "metadata": {},
   "outputs": [
    {
     "data": {
      "text/plain": [
       "[<matplotlib.lines.Line2D at 0x117f697f0>]"
      ]
     },
     "execution_count": 116,
     "metadata": {},
     "output_type": "execute_result"
    },
    {
     "data": {
      "image/png": "[encoded data removed]",
      "text/plain": [
       "<Figure size 432x288 with 1 Axes>"
      ]
     },
     "metadata": {
      "needs_background": "light"
     },
     "output_type": "display_data"
    }
   ],
   "source": [
    "crime = hood2.C.sum(axis=1)\n",
    "fig = plt.figure()\n",
    "ax = plt.axes()\n",
    "ax.plot(range(len(crime)), crime, color='blue')"
   ]
  },
  {
   "cell_type": "code",
   "execution_count": 112,
   "metadata": {},
   "outputs": [
    {
     "data": {
      "image/png": "[encoded data removed]",
      "text/plain": [
       "<Figure size 432x288 with 1 Axes>"
      ]
     },
     "metadata": {},
     "output_type": "display_data"
    }
   ],
   "source": [
    "p = np.array([1, 4, 4, 1, 1])\n",
    "b = np.array([5, 0, 6, 0, 6])\n",
    "s = np.array([0, 1, 2, 3, 4])\n",
    "hood2 = Hood1D(5, 20, p, b, s, beta=.1)\n",
    "hood2.loop()\n",
    "hood2.draw()"
   ]
  },
  {
   "cell_type": "code",
   "execution_count": null,
   "metadata": {},
   "outputs": [],
   "source": []
  }
 ],
 "metadata": {
  "kernelspec": {
   "display_name": "Python 3",
   "language": "python",
   "name": "python3"
  },
  "language_info": {
   "codemirror_mode": {
    "name": "ipython",
    "version": 3
   },
   "file_extension": ".py",
   "mimetype": "text/x-python",
   "name": "python",
   "nbconvert_exporter": "python",
   "pygments_lexer": "ipython3",
   "version": "3.7.3"
  }
 },
 "nbformat": 4,
 "nbformat_minor": 2
}
