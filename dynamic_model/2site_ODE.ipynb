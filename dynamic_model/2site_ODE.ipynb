{
 "cells": [
  {
   "cell_type": "code",
   "execution_count": 1,
   "metadata": {},
   "outputs": [],
   "source": [
    "from scipy.integrate import odeint\n",
    "import numpy as np\n",
    "import matplotlib.pyplot as plt\n",
    "%matplotlib inline"
   ]
  },
  {
   "cell_type": "code",
   "execution_count": 109,
   "metadata": {},
   "outputs": [],
   "source": [
    "\n",
    "def l(x):\n",
    "    return np.log(1 + np.exp(x))\n",
    "\n",
    "beta = 0.02\n",
    "theta = 0.5\n",
    "gamma = .02\n",
    "P0=1\n",
    "S1=1.85\n",
    "S2=2\n",
    "\"\"\"\n",
    "sum = l(theta * (b1 - b2)) + l(theta * (b2 - b1)) + 2 * l(0)\n",
    "pi11 = pi22 = l(0)/sum\n",
    "pi12 = l(theta*(b1-b2))/sum\n",
    "pi21 = l(theta*(b2-b1))/sum\n",
    "\"\"\"\n",
    "\n",
    "def hood(y,t, beta, theta, gamma, P0, S1, S2):\n",
    "    b1, b2 = y\n",
    "    \n",
    "    sum = l(theta * (b1 - b2)) + l(theta * (b2 - b1)) + 2 * l(0)\n",
    "    pi11 = pi22 = l(0)/sum\n",
    "    pi12 = l(theta*(b1-b2))/sum\n",
    "    pi21 = l(theta*(b2-b1))/sum\n",
    "    \n",
    "    dydt = [b1**2 * (theta * -beta) +\\\n",
    "            b1 * (gamma * (pi11 - 1) - beta*P0)\\\n",
    "            + b2*gamma*pi21 + S1,\n",
    "            b2**2 * (theta * -beta) +\\\n",
    "            b2 * (gamma * (pi22 - 1) - beta*P0)\\\n",
    "            + b1 * gamma * pi12 + S2]\n",
    "    return dydt\n",
    "\n",
    "y0 = [0, 0]\n",
    "t = np.linspace(0,1000,10000)"
   ]
  },
  {
   "cell_type": "code",
   "execution_count": 110,
   "metadata": {},
   "outputs": [
    {
     "data": {
      "text/plain": [
       "[1.7959929931990002, 1.945992993199]"
      ]
     },
     "execution_count": 110,
     "metadata": {},
     "output_type": "execute_result"
    }
   ],
   "source": [
    "hood([1.26599,1.26599], 5, beta, theta, gamma, P0, S1, S2)"
   ]
  },
  {
   "cell_type": "code",
   "execution_count": 111,
   "metadata": {},
   "outputs": [],
   "source": [
    "sol = odeint(hood, y0, t, args=(beta, theta, gamma, P0, S1, S2))"
   ]
  },
  {
   "cell_type": "code",
   "execution_count": 112,
   "metadata": {},
   "outputs": [
    {
     "data": {
      "text/plain": [
       "(10000, 2)"
      ]
     },
     "execution_count": 112,
     "metadata": {},
     "output_type": "execute_result"
    }
   ],
   "source": [
    "sol.shape\n"
   ]
  },
  {
   "cell_type": "code",
   "execution_count": 113,
   "metadata": {},
   "outputs": [
    {
     "data": {
      "text/plain": [
       "<matplotlib.legend.Legend at 0x7ff4aeabd898>"
      ]
     },
     "execution_count": 113,
     "metadata": {},
     "output_type": "execute_result"
    },
    {
     "data": {
      "image/png": "[encoded data removed]",
      "text/plain": [
       "<Figure size 432x288 with 1 Axes>"
      ]
     },
     "metadata": {
      "needs_background": "light"
     },
     "output_type": "display_data"
    }
   ],
   "source": [
    "plt.plot(t, sol[ :, 0], 'b', label='b1(t)')\n",
    "plt.plot(t, sol[ :, 1], 'g', label='b2(t)')\n",
    "plt.grid()\n",
    "plt.legend()"
   ]
  },
  {
   "cell_type": "code",
   "execution_count": 96,
   "metadata": {},
   "outputs": [],
   "source": [
    "\n",
    "def l(x):\n",
    "    return np.log(1 + np.exp(x))\n",
    "\n",
    "beta = 0.023\n",
    "theta = 0.0055\n",
    "gamma = .5\n",
    "P1=5\n",
    "P2=3\n",
    "S1=3\n",
    "S2=2\n",
    "\"\"\"\n",
    "sum = l(theta * (b1 - b2)) + l(theta * (b2 - b1)) + 2 * l(0)\n",
    "pi11 = pi22 = l(0)/sum\n",
    "pi12 = l(theta*(b1-b2))/sum\n",
    "pi21 = l(theta*(b2-b1))/sum\n",
    "\"\"\"\n",
    "\n",
    "def hood(y,t, beta, theta, gamma, P0, S1, S2):\n",
    "    b1, b2 = y\n",
    "    \n",
    "    sum = l(theta * (b1 - b2)) + l(theta * (b2 - b1)) + 2 * l(0)\n",
    "    pi11 = pi22 = l(0)/sum\n",
    "    pi12 = l(theta*(b1-b2))/sum\n",
    "    pi21 = l(theta*(b2-b1))/sum\n",
    "    \n",
    "    dydt = [b1**2 * (theta * -beta) +\\\n",
    "            b1 * (gamma * (pi11 - 1) - beta*P1)\\\n",
    "            + b2*gamma*pi21 + S1,\n",
    "            b2**2 * (theta * - beta) +\\\n",
    "            b2 * (gamma * (pi22 - 1) - beta*P2)\\\n",
    "            + b1 * gamma * pi12 + S2]\n",
    "    return dydt\n",
    "\n",
    "y0 = [0, 0]\n",
    "t = np.linspace(0,100,1000)"
   ]
  },
  {
   "cell_type": "code",
   "execution_count": 97,
   "metadata": {},
   "outputs": [],
   "source": [
    "sol = odeint(hood, y0, t, args=(beta, theta, gamma, P0, S1, S2))"
   ]
  },
  {
   "cell_type": "code",
   "execution_count": 98,
   "metadata": {},
   "outputs": [
    {
     "data": {
      "text/plain": [
       "<matplotlib.legend.Legend at 0x7ff4aebb99b0>"
      ]
     },
     "execution_count": 98,
     "metadata": {},
     "output_type": "execute_result"
    },
    {
     "data": {
      "image/png": "[encoded data removed]",
      "text/plain": [
       "<Figure size 432x288 with 1 Axes>"
      ]
     },
     "metadata": {
      "needs_background": "light"
     },
     "output_type": "display_data"
    }
   ],
   "source": [
    "plt.plot(t, sol[ :, 0], 'b', label='b1(t)')\n",
    "plt.plot(t, sol[ :, 1], 'g', label='b2(t)')\n",
    "plt.grid()\n",
    "plt.legend()"
   ]
  },
  {
   "cell_type": "code",
   "execution_count": 14,
   "metadata": {},
   "outputs": [],
   "source": [
    "import numpy as np\n",
    "import matplotlib.pyplot as plt\n",
    "%matplotlib inline\n",
    "\n",
    "class Hood1D:\n",
    "    \"\"\"\n",
    "    z: sites\n",
    "    n: turns\n",
    "    p: police presence in each site\n",
    "    b: initial criminal population\n",
    "    s: crime level for each site\n",
    "    beta: arrest rate\n",
    "    theta: police reactivity\n",
    "    \"\"\"\n",
    "    def __init__(self, z=2, n=10, p=None, b=None,\n",
    "                 s=None, beta=0.1, theta=0.05):\n",
    "        self.z = z\n",
    "        self.n = n\n",
    "        self.beta = beta\n",
    "        self.theta = theta\n",
    "        \n",
    "        self.p = np.ones(z) if p is None else p\n",
    "        self.b = np.ones(z) if b is None else b\n",
    "        self.s = np.zeros(z) if s is None else s\n",
    "        \n",
    "        # initialize grids\n",
    "        # B: criminals\n",
    "        self.B = np.zeros((n, z))\n",
    "        # P: police\n",
    "        self.P = np.zeros((n, z))\n",
    "        # A: arrests\n",
    "        self.A = np.zeros((n, z))\n",
    "        \n",
    "        # initial conditions\n",
    "        self.B[0] = self.b\n",
    "        self.P[0] = self.p + self.theta * self.b\n",
    "        self.A[0] = self.beta * self.P[0] * self.B[0]\n",
    "        \n",
    "        self.t = 0\n",
    "    \n",
    "    \"\"\"\n",
    "    transition function:\n",
    "    For site i, returns array of length z;\n",
    "    each entry is probability of moving to that\n",
    "    site from i\n",
    "    \"\"\"\n",
    "    def PI_ij(self, i):\n",
    "        t = self.t\n",
    "        p_ = self.P[t]\n",
    "        x = np.log(1 + np.exp(p_[i] - p_))\n",
    "        return x / x.sum()\n",
    "        \n",
    "    def step(self):\n",
    "        t = self.t\n",
    "        # the population at t is reduced by arrests at t\n",
    "        b_ = self.B[t] - self.A[t]\n",
    "        # the population moves based on police presence at t\n",
    "        for i in range(self.z):\n",
    "            self.B[t+1] += b_[i] * self.PI_ij(i)\n",
    "        # population is increased by source at each site\n",
    "        self.B[t+1] += self.s\n",
    "        # police react to updated population\n",
    "        self.P[t+1] = self.p + self.theta * self.B[t+1]\n",
    "        # calulate arrests at t+1\n",
    "        self.A[t+1] = self.beta * self.P[t+1] * self.B[t+1]\n",
    "        \n",
    "        self.t += 1\n",
    "        \n",
    "    def loop(self):\n",
    "        for i in range(self.n - 1):\n",
    "            self.step()\n",
    "            \n",
    "    def draw(self):\n",
    "        a = self.B\n",
    "        plt.imshow(a, cmap='plasma')\n",
    "        plt.xticks([])\n",
    "        plt.yticks([])\n",
    "        \n",
    "    def graph(self):\n",
    "        z = self.z\n",
    "        n = self.n\n",
    "        colors = 'brgcmyk'\n",
    "        fig, ax = plt.subplots()\n",
    "        for i in range(z):\n",
    "            ax.plot(range(n), self.B[:, i], '-' + colors[i % len(colors)], label='site ' + str(i))\n",
    "        leg = ax.legend()\n",
    "        plt.xlabel('TIME')\n",
    "        plt.ylabel('B_i')"
   ]
  },
  {
   "cell_type": "code",
   "execution_count": 63,
   "metadata": {},
   "outputs": [
    {
     "data": {
      "image/png": "[encoded data removed]",
      "text/plain": [
       "<Figure size 432x288 with 1 Axes>"
      ]
     },
     "metadata": {
      "needs_background": "light"
     },
     "output_type": "display_data"
    }
   ],
   "source": [
    "# start with two neighborhoods\n",
    "p = np.array([1, 1])\n",
    "b = np.array([0, 0])\n",
    "s = np.array([3, 2])\n",
    "hood0 = Hood1D(z=2, n=100, p=p, b=b, s=s, beta=.02, theta=0.05)\n",
    "hood0.loop()\n",
    "hood0.graph()\n",
    "# plt.savefig('bvp_fig0.eps', format='eps')"
   ]
  },
  {
   "cell_type": "code",
   "execution_count": null,
   "metadata": {},
   "outputs": [],
   "source": []
  }
 ],
 "metadata": {
  "kernelspec": {
   "display_name": "Python 3",
   "language": "python",
   "name": "python3"
  },
  "language_info": {
   "codemirror_mode": {
    "name": "ipython",
    "version": 3
   },
   "file_extension": ".py",
   "mimetype": "text/x-python",
   "name": "python",
   "nbconvert_exporter": "python",
   "pygments_lexer": "ipython3",
   "version": "3.7.3"
  }
 },
 "nbformat": 4,
 "nbformat_minor": 2
}
