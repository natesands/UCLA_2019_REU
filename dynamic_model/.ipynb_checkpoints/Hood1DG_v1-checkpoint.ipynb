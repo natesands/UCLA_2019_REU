{
 "cells": [
  {
   "cell_type": "code",
   "execution_count": 140,
   "metadata": {},
   "outputs": [],
   "source": [
    "import numpy as np\n",
    "import matplotlib.pyplot as plt\n",
    "\n",
    "class Gang:\n",
    "    \n",
    "    def __init__(self, z=2, n=10, alpha = 0.1, g = None, s = None):\n",
    "        self.z = z\n",
    "        self.n = n\n",
    "        self.alpha = alpha\n",
    "        \n",
    "        self.g = np.zeros(z) if g is None else g\n",
    "        self.s = np.zeros(z) if s is None else s\n",
    "        \n",
    "        self.G = np.zeros((n,z))\n",
    "        self.G[0] = self.g\n",
    "        \n",
    "        \n",
    "\n",
    "class Hood1DG:\n",
    "    \n",
    "    def __init__(self, z=2, n=10, g=2, gang_list=None, p=None, beta=0.1, gamma=0.5):\n",
    "        self.z = z\n",
    "        self.n = n\n",
    "        self.beta = beta\n",
    "        self.gamma = gamma\n",
    "        \n",
    "        self.p = np.ones(z) if p is None else p\n",
    "        \n",
    "        self.P = np.zeros((n, z))\n",
    "        self.C = np.zeros((n, z))\n",
    "        self.A = np.zeros((n, z))\n",
    "        self.V = np.zeros((n, z))\n",
    "        \n",
    "        if gang_list is None:\n",
    "            self.gangs = []\n",
    "            for ind in range(g):\n",
    "                self.gangs.append(Gang(z, n))\n",
    "        else:\n",
    "            self.gangs = gang_list\n",
    "            \n",
    "        # step 0 \n",
    "        self.P[0] = self.p\n",
    "        self.C[0] = self.alpha * self.b\n",
    "        self.next = 1"
   ]
  },
  {
   "cell_type": "code",
   "execution_count": 141,
   "metadata": {},
   "outputs": [
    {
     "ename": "AttributeError",
     "evalue": "'Hood1DG' object has no attribute 'alpha'",
     "output_type": "error",
     "traceback": [
      "\u001b[0;31m---------------------------------------------------------------------------\u001b[0m",
      "\u001b[0;31mAttributeError\u001b[0m                            Traceback (most recent call last)",
      "\u001b[0;32m<ipython-input-141-c3a83ee75edb>\u001b[0m in \u001b[0;36m<module>\u001b[0;34m\u001b[0m\n\u001b[0;32m----> 1\u001b[0;31m \u001b[0mhood\u001b[0m \u001b[0;34m=\u001b[0m \u001b[0mHood1DG\u001b[0m\u001b[0;34m(\u001b[0m\u001b[0;34m)\u001b[0m\u001b[0;34m\u001b[0m\u001b[0;34m\u001b[0m\u001b[0m\n\u001b[0m",
      "\u001b[0;32m<ipython-input-140-2732eaf5491b>\u001b[0m in \u001b[0;36m__init__\u001b[0;34m(self, z, n, g, gang_list, p, beta, gamma)\u001b[0m\n\u001b[1;32m     41\u001b[0m         \u001b[0;31m# step 0\u001b[0m\u001b[0;34m\u001b[0m\u001b[0;34m\u001b[0m\u001b[0;34m\u001b[0m\u001b[0m\n\u001b[1;32m     42\u001b[0m         \u001b[0mself\u001b[0m\u001b[0;34m.\u001b[0m\u001b[0mP\u001b[0m\u001b[0;34m[\u001b[0m\u001b[0;36m0\u001b[0m\u001b[0;34m]\u001b[0m \u001b[0;34m=\u001b[0m \u001b[0mself\u001b[0m\u001b[0;34m.\u001b[0m\u001b[0mp\u001b[0m\u001b[0;34m\u001b[0m\u001b[0;34m\u001b[0m\u001b[0m\n\u001b[0;32m---> 43\u001b[0;31m         \u001b[0mself\u001b[0m\u001b[0;34m.\u001b[0m\u001b[0mC\u001b[0m\u001b[0;34m[\u001b[0m\u001b[0;36m0\u001b[0m\u001b[0;34m]\u001b[0m \u001b[0;34m=\u001b[0m \u001b[0mself\u001b[0m\u001b[0;34m.\u001b[0m\u001b[0malpha\u001b[0m \u001b[0;34m*\u001b[0m \u001b[0mself\u001b[0m\u001b[0;34m.\u001b[0m\u001b[0mb\u001b[0m\u001b[0;34m\u001b[0m\u001b[0;34m\u001b[0m\u001b[0m\n\u001b[0m\u001b[1;32m     44\u001b[0m         \u001b[0mself\u001b[0m\u001b[0;34m.\u001b[0m\u001b[0mnext\u001b[0m \u001b[0;34m=\u001b[0m \u001b[0;36m1\u001b[0m\u001b[0;34m\u001b[0m\u001b[0;34m\u001b[0m\u001b[0m\n",
      "\u001b[0;31mAttributeError\u001b[0m: 'Hood1DG' object has no attribute 'alpha'"
     ]
    }
   ],
   "source": [
    "hood = Hood1DG()"
   ]
  },
  {
   "cell_type": "code",
   "execution_count": null,
   "metadata": {},
   "outputs": [],
   "source": [
    "hood.gangs"
   ]
  },
  {
   "cell_type": "code",
   "execution_count": null,
   "metadata": {},
   "outputs": [],
   "source": [
    "hood.gangs[0].alpha"
   ]
  },
  {
   "cell_type": "code",
   "execution_count": null,
   "metadata": {},
   "outputs": [],
   "source": [
    "hood.gangs[0].G"
   ]
  },
  {
   "cell_type": "code",
   "execution_count": null,
   "metadata": {},
   "outputs": [],
   "source": [
    "bloods = Gang(2, 10, 0.1, np.ones(2), np.ones(2))\n",
    "crips = Gang(z=2, n=10, alpha=0.3, g=np.array([5, 4]), s=np.array([1, 1]))"
   ]
  },
  {
   "cell_type": "code",
   "execution_count": null,
   "metadata": {},
   "outputs": [],
   "source": [
    "hood1 = Hood1DG(z=2, n=10, g=2, gang_list=[bloods, crips], p=np.array([5,5]), beta=0.1, gamma=0.5)"
   ]
  },
  {
   "cell_type": "code",
   "execution_count": null,
   "metadata": {},
   "outputs": [],
   "source": [
    "hood1.gangs"
   ]
  },
  {
   "cell_type": "code",
   "execution_count": null,
   "metadata": {},
   "outputs": [],
   "source": [
    "hood1.P"
   ]
  },
  {
   "cell_type": "code",
   "execution_count": 257,
   "metadata": {},
   "outputs": [],
   "source": [
    "\n",
    "import numpy as np\n",
    "import matplotlib.pyplot as plt\n",
    "\n",
    "class Gang:\n",
    "    \n",
    "    def __init__(self, z=2, n=10, alpha = 0.1, g = None, s = None):\n",
    "        # number of sites in hood\n",
    "        self.z = z\n",
    "        # number of turns\n",
    "        self.n = n\n",
    "        # crime coefficient\n",
    "        self.alpha = alpha\n",
    "        \n",
    "        # array of initial gang numbers at each site\n",
    "        self.g = np.zeros(z) if g is None else g\n",
    "        # source terms for each site\n",
    "        self.s = np.zeros(z) if s is None else s\n",
    "        # grid for gang numbers\n",
    "        self.G = np.zeros((n,z))\n",
    "        \n",
    "        # step 0\n",
    "        self.G[0] = self.g\n",
    "    \n",
    "    def draw(self):\n",
    "        a = self.G\n",
    "        plt.imshow(a, cmap='magma', alpha=0.7)\n",
    "        plt.xticks([])\n",
    "        plt.yticks([])\n",
    "        \n",
    "        \n",
    "        \n",
    "\n",
    "class Hood1DG:\n",
    "    \n",
    "    def __init__(self, z=2, n=10, gang_count=2, gang_list=None, p=None,\n",
    "                 beta=0.01, gamma=0.5, delta = 0.5):\n",
    "        # number of sites\n",
    "        self.z = z\n",
    "        # number of turns\n",
    "        self.n = n\n",
    "        # arrest coefficient\n",
    "        self.beta = beta\n",
    "        # police reactance coefficient\n",
    "        self.gamma = gamma\n",
    "        # violence coefficient\n",
    "        self.delta = delta\n",
    "        self.gang_count = gang_count\n",
    "        \n",
    "        # array of initial police numbers at each site\n",
    "        self.p = np.ones(z) if p is None else p\n",
    "        \n",
    "        # grids\n",
    "        # police\n",
    "        self.P = np.zeros((n, z))\n",
    "        # crime\n",
    "        self.C = np.zeros((n, z))\n",
    "        # arrests\n",
    "        self.A = np.zeros((n, z))\n",
    "        # violence\n",
    "        self.V = np.zeros((n, z))\n",
    "        \n",
    "        # initialize gang list\n",
    "        if gang_list is None:\n",
    "            self.gangs = []\n",
    "            for ind in range(gang_count):\n",
    "                self.gangs.append(Gang(z, n))\n",
    "        else:\n",
    "            self.gangs = gang_list\n",
    "            \n",
    "        # step 0\n",
    "        # initial police\n",
    "        self.P[0] = self.p\n",
    "        # initial crime\n",
    "        for l in range(gang_count):\n",
    "            self.C[0] += self.gangs[l].G[0] * self.gangs[l].alpha\n",
    "    \n",
    "        self.next = 1\n",
    "        \n",
    "    # calculate the probability of gang k in site i\n",
    "    # moving to sites 1, 2, ..., z in next step\n",
    "    # based on values of police + rivals in step - 1\n",
    "    # returns 1 x z array\n",
    "    def pi_ij_k(self, k, i):\n",
    "        # count rival gang members in each site\n",
    "        step = self.next\n",
    "        rivals = np.zeros(self.z)\n",
    "        for l in range(self.gang_count):\n",
    "            if l != k:\n",
    "                rivals += self.gangs[l].G[step-1]\n",
    "        # get difference between police + rivals \n",
    "        # in site i and police + rivals in every\n",
    "        # other site\n",
    "        x = (self.P[step - 1, i] + rivals[i])\\\n",
    "            - (self.P[step - 1] + rivals)\n",
    "        # find ln(1 + e^x)\n",
    "        x = np.log(1 + np.exp(x))\n",
    "        # return x over sum\n",
    "        return x / x.sum()\n",
    "    \n",
    "    def G_k_step(self, k):\n",
    "        step = self.next\n",
    "        # make arrests\n",
    "        G_ = self.gangs[k].G[step-1] - self.arrests(k)\n",
    "        # account for movement\n",
    "        G_step = np.zeros(self.z)\n",
    "        for i in range(self.z):\n",
    "            probs = self.pi_ij_k(k, i)\n",
    "            G_step += probs * G_[i]\n",
    "        # add source factor\n",
    "        G_step += self.gangs[k].s\n",
    "        return G_step\n",
    "    \n",
    "    def arrests(self, k):\n",
    "        step = self.next\n",
    "        k_arrests = self.gangs[k].G[step-1] * self.P[step-1] * self.beta\n",
    "        # update arrest grid\n",
    "        self.A[step-1] += k_arrests\n",
    "        return k_arrests\n",
    "        \n",
    "    def step(self):\n",
    "        step = self.next\n",
    "        # update gang grids\n",
    "        for l in range(self.gang_count):\n",
    "            self.gangs[l].G[step] = self.G_k_step(l)\n",
    "            \n",
    "        # update police grid\n",
    "        self.P[step] = self.p + self.gamma * self.C[step-1]\n",
    "        \n",
    "        #update crime grid\n",
    "        for l in range(self.gang_count):\n",
    "            self.C[step] += self.gangs[l].G[step] * self.gangs[l].alpha          \n",
    "            \n",
    "        self.next += 1\n",
    "        \n",
    "    def loop(self):\n",
    "        for i in range(self.n - 1):\n",
    "            self.step()\n",
    "            \n",
    "    def draw(self):\n",
    "        a = self.C\n",
    "        plt.imshow(a, cmap='plasma', alpha=0.7)\n",
    "        plt.xticks([])\n",
    "        plt.yticks([])\n",
    "    \n",
    "\n",
    "    "
   ]
  },
  {
   "cell_type": "code",
   "execution_count": 184,
   "metadata": {},
   "outputs": [],
   "source": [
    "bloods = Gang(2, 10, 0.1, np.ones(2), np.ones(2))\n",
    "crips = Gang(z=2, n=10, alpha=0.3, g=np.array([5, 4]), s=np.array([1, 1]))"
   ]
  },
  {
   "cell_type": "code",
   "execution_count": 185,
   "metadata": {},
   "outputs": [],
   "source": [
    "hood1 = Hood1DG(z=2, n=10, gang_count=2, gang_list=[bloods, crips], p=np.array([5,5]), beta=0.0, gamma=0.5)"
   ]
  },
  {
   "cell_type": "code",
   "execution_count": 186,
   "metadata": {},
   "outputs": [],
   "source": [
    "hood1.step()"
   ]
  },
  {
   "cell_type": "code",
   "execution_count": 187,
   "metadata": {},
   "outputs": [
    {
     "data": {
      "text/plain": [
       "array([[0., 0.],\n",
       "       [0., 0.],\n",
       "       [0., 0.],\n",
       "       [0., 0.],\n",
       "       [0., 0.],\n",
       "       [0., 0.],\n",
       "       [0., 0.],\n",
       "       [0., 0.],\n",
       "       [0., 0.],\n",
       "       [0., 0.]])"
      ]
     },
     "execution_count": 187,
     "metadata": {},
     "output_type": "execute_result"
    }
   ],
   "source": [
    "hood1.A"
   ]
  },
  {
   "cell_type": "code",
   "execution_count": 188,
   "metadata": {},
   "outputs": [
    {
     "data": {
      "text/plain": [
       "array([[5. , 4. ],\n",
       "       [5.5, 5.5],\n",
       "       [0. , 0. ],\n",
       "       [0. , 0. ],\n",
       "       [0. , 0. ],\n",
       "       [0. , 0. ],\n",
       "       [0. , 0. ],\n",
       "       [0. , 0. ],\n",
       "       [0. , 0. ],\n",
       "       [0. , 0. ]])"
      ]
     },
     "execution_count": 188,
     "metadata": {},
     "output_type": "execute_result"
    }
   ],
   "source": [
    "hood1.gangs[1].G"
   ]
  },
  {
   "cell_type": "code",
   "execution_count": 189,
   "metadata": {},
   "outputs": [],
   "source": [
    "bloods = Gang(2, 20, 0.1, g=np.ones(2))\n",
    "crips = Gang(z=2, n=20, alpha=0.3, g=np.array([5, 4]))\n",
    "hood_mass = Hood1DG(z=2, n=20, gang_count=2, gang_list=[bloods, crips], p=np.array([1,1]), beta=0.0, gamma=0.5)"
   ]
  },
  {
   "cell_type": "code",
   "execution_count": 190,
   "metadata": {},
   "outputs": [
    {
     "data": {
      "text/plain": [
       "<__main__.Hood1DG at 0x7f2555e80ba8>"
      ]
     },
     "execution_count": 190,
     "metadata": {},
     "output_type": "execute_result"
    }
   ],
   "source": [
    "hood_mass"
   ]
  },
  {
   "cell_type": "code",
   "execution_count": 191,
   "metadata": {},
   "outputs": [
    {
     "data": {
      "text/plain": [
       "array([[5., 4.],\n",
       "       [0., 0.],\n",
       "       [0., 0.],\n",
       "       [0., 0.],\n",
       "       [0., 0.],\n",
       "       [0., 0.],\n",
       "       [0., 0.],\n",
       "       [0., 0.],\n",
       "       [0., 0.],\n",
       "       [0., 0.],\n",
       "       [0., 0.],\n",
       "       [0., 0.],\n",
       "       [0., 0.],\n",
       "       [0., 0.],\n",
       "       [0., 0.],\n",
       "       [0., 0.],\n",
       "       [0., 0.],\n",
       "       [0., 0.],\n",
       "       [0., 0.],\n",
       "       [0., 0.]])"
      ]
     },
     "execution_count": 191,
     "metadata": {},
     "output_type": "execute_result"
    }
   ],
   "source": [
    "hood_mass.gangs[1].G"
   ]
  },
  {
   "cell_type": "code",
   "execution_count": 192,
   "metadata": {},
   "outputs": [],
   "source": [
    "hood_mass.loop()"
   ]
  },
  {
   "cell_type": "code",
   "execution_count": 193,
   "metadata": {},
   "outputs": [
    {
     "data": {
      "text/plain": [
       "array([[5.        , 4.        ],\n",
       "       [4.5       , 4.5       ],\n",
       "       [5.35835349, 3.64164651],\n",
       "       [4.7325877 , 4.2674123 ],\n",
       "       [5.78781613, 3.21218387],\n",
       "       [5.32694088, 3.67305912],\n",
       "       [6.21110434, 2.78889566],\n",
       "       [6.34102517, 2.65897483],\n",
       "       [6.56912522, 2.43087478],\n",
       "       [6.71067939, 2.28932061],\n",
       "       [6.69880632, 2.30119368],\n",
       "       [6.67407196, 2.32592804],\n",
       "       [6.68316805, 2.31683195],\n",
       "       [6.69136986, 2.30863014],\n",
       "       [6.68837687, 2.31162313],\n",
       "       [6.68601253, 2.31398747],\n",
       "       [6.68706476, 2.31293524],\n",
       "       [6.68775457, 2.31224543],\n",
       "       [6.68739618, 2.31260382],\n",
       "       [6.68719827, 2.31280173]])"
      ]
     },
     "execution_count": 193,
     "metadata": {},
     "output_type": "execute_result"
    }
   ],
   "source": [
    "hood_mass.gangs[1].G"
   ]
  },
  {
   "cell_type": "code",
   "execution_count": 194,
   "metadata": {},
   "outputs": [
    {
     "data": {
      "text/plain": [
       "array([[1.        , 1.        ],\n",
       "       [1.8       , 1.65      ],\n",
       "       [1.70783667, 1.74216333],\n",
       "       [1.85103567, 1.59896433],\n",
       "       [1.73316931, 1.71683069],\n",
       "       [1.90505942, 1.54494058],\n",
       "       [1.81261075, 1.63738925],\n",
       "       [1.9482157 , 1.5017843 ],\n",
       "       [1.9569423 , 1.4930577 ],\n",
       "       [1.98832108, 1.46167892],\n",
       "       [2.00836516, 1.44163484],\n",
       "       [2.00602957, 1.44397043],\n",
       "       [2.00224057, 1.44775943],\n",
       "       [2.00365134, 1.44634866],\n",
       "       [2.00487579, 1.44512421],\n",
       "       [2.00440644, 1.44559356],\n",
       "       [2.00405309, 1.44594691],\n",
       "       [2.00421688, 1.44578312],\n",
       "       [2.00431959, 1.44568041],\n",
       "       [2.00426399, 1.44573601]])"
      ]
     },
     "execution_count": 194,
     "metadata": {},
     "output_type": "execute_result"
    }
   ],
   "source": [
    "hood_mass.P"
   ]
  },
  {
   "cell_type": "code",
   "execution_count": 195,
   "metadata": {},
   "outputs": [
    {
     "data": {
      "text/plain": [
       "array([[1.6       , 1.3       ],\n",
       "       [1.41567334, 1.48432666],\n",
       "       [1.70207133, 1.19792867],\n",
       "       [1.46633862, 1.43366138],\n",
       "       [1.81011883, 1.08988117],\n",
       "       [1.6252215 , 1.2747785 ],\n",
       "       [1.8964314 , 1.0035686 ],\n",
       "       [1.9138846 , 0.9861154 ],\n",
       "       [1.97664216, 0.92335784],\n",
       "       [2.01673032, 0.88326968],\n",
       "       [2.01205913, 0.88794087],\n",
       "       [2.00448113, 0.89551887],\n",
       "       [2.00730267, 0.89269733],\n",
       "       [2.00975158, 0.89024842],\n",
       "       [2.00881288, 0.89118712],\n",
       "       [2.00810619, 0.89189381],\n",
       "       [2.00843375, 0.89156625],\n",
       "       [2.00863917, 0.89136083],\n",
       "       [2.00852799, 0.89147201],\n",
       "       [2.00846924, 0.89153076]])"
      ]
     },
     "execution_count": 195,
     "metadata": {},
     "output_type": "execute_result"
    }
   ],
   "source": [
    "hood_mass.C"
   ]
  },
  {
   "cell_type": "code",
   "execution_count": 196,
   "metadata": {},
   "outputs": [
    {
     "data": {
      "image/png": "[encoded data removed]",
      "text/plain": [
       "<Figure size 432x288 with 1 Axes>"
      ]
     },
     "metadata": {},
     "output_type": "display_data"
    }
   ],
   "source": [
    "hood_mass.draw()"
   ]
  },
  {
   "cell_type": "code",
   "execution_count": 197,
   "metadata": {},
   "outputs": [
    {
     "data": {
      "text/plain": [
       "[<matplotlib.lines.Line2D at 0x7f2555e4b588>]"
      ]
     },
     "execution_count": 197,
     "metadata": {},
     "output_type": "execute_result"
    },
    {
     "data": {
      "image/png": "[encoded data removed]",
      "text/plain": [
       "<Figure size 432x288 with 1 Axes>"
      ]
     },
     "metadata": {
      "needs_background": "light"
     },
     "output_type": "display_data"
    }
   ],
   "source": [
    "seq1 = hood_mass.C[:, 1]\n",
    "fig = plt.figure()\n",
    "ax = plt.axes()\n",
    "ax.plot(range(len(seq1)), seq1, color='blue')"
   ]
  },
  {
   "cell_type": "code",
   "execution_count": 198,
   "metadata": {},
   "outputs": [
    {
     "data": {
      "text/plain": [
       "[<matplotlib.lines.Line2D at 0x7f2555ffcb00>]"
      ]
     },
     "execution_count": 198,
     "metadata": {},
     "output_type": "execute_result"
    },
    {
     "data": {
      "image/png": "[encoded data removed]",
      "text/plain": [
       "<Figure size 432x288 with 1 Axes>"
      ]
     },
     "metadata": {
      "needs_background": "light"
     },
     "output_type": "display_data"
    }
   ],
   "source": [
    "seq0 = hood_mass.C[:, 0]\n",
    "fig = plt.figure()\n",
    "ax = plt.axes()\n",
    "ax.plot(range(len(seq1)), seq0, color='orange')"
   ]
  },
  {
   "cell_type": "code",
   "execution_count": 199,
   "metadata": {},
   "outputs": [],
   "source": [
    "bloods = Gang(2, 20, 0.1, np.ones(2), np.ones(2))\n",
    "crips = Gang(z=2, n=20, alpha=0.3, g=np.array([5, 4]), s=np.array([1, 1]))\n",
    "hood_mass = Hood1DG(z=2, n=20, gang_count=2, gang_list=[bloods, crips], p=np.array([1,1]), beta=0.1, gamma=0.5)"
   ]
  },
  {
   "cell_type": "code",
   "execution_count": 200,
   "metadata": {},
   "outputs": [],
   "source": [
    "hood_mass.loop()"
   ]
  },
  {
   "cell_type": "code",
   "execution_count": 201,
   "metadata": {},
   "outputs": [
    {
     "data": {
      "image/png": "[encoded data removed]",
      "text/plain": [
       "<Figure size 432x288 with 1 Axes>"
      ]
     },
     "metadata": {},
     "output_type": "display_data"
    }
   ],
   "source": [
    "hood_mass.draw()"
   ]
  },
  {
   "cell_type": "code",
   "execution_count": 202,
   "metadata": {},
   "outputs": [
    {
     "data": {
      "text/plain": [
       "array([[5.        , 4.        ],\n",
       "       [5.05      , 5.05      ],\n",
       "       [5.8760566 , 4.4816934 ],\n",
       "       [5.52768623, 4.91344445],\n",
       "       [7.48570775, 2.95964175],\n",
       "       [7.33829589, 3.08334438],\n",
       "       [8.7976489 , 1.45333725],\n",
       "       [8.91413127, 1.17083227],\n",
       "       [8.64635857, 1.13353349],\n",
       "       [8.42523914, 1.11022463],\n",
       "       [8.28465159, 1.09503198],\n",
       "       [8.19871504, 1.08596246],\n",
       "       [8.14619991, 1.08024992],\n",
       "       [8.1137257 , 1.07642655],\n",
       "       [8.0932761 , 1.0737598 ],\n",
       "       [8.08011755, 1.07184806],\n",
       "       [8.07145226, 1.07045154],\n",
       "       [8.06561139, 1.06941785],\n",
       "       [8.06158558, 1.06864551],\n",
       "       [8.05875365, 1.06806451]])"
      ]
     },
     "execution_count": 202,
     "metadata": {},
     "output_type": "execute_result"
    }
   ],
   "source": [
    "hood_mass.gangs[1].G"
   ]
  },
  {
   "cell_type": "code",
   "execution_count": 203,
   "metadata": {},
   "outputs": [
    {
     "data": {
      "text/plain": [
       "array([[ 1.        ,  1.        ],\n",
       "       [ 1.59106005,  2.20893995],\n",
       "       [ 2.48923599,  2.6598981 ],\n",
       "       [ 2.15150607,  4.04348731],\n",
       "       [ 2.78207199,  4.25140708],\n",
       "       [ 1.34998142,  6.32025686],\n",
       "       [ 1.1882669 ,  7.12964996],\n",
       "       [ 1.08023892,  7.71201416],\n",
       "       [ 1.06356576,  8.25744834],\n",
       "       [ 1.06446937,  8.71305823],\n",
       "       [ 1.06758492,  9.0805862 ],\n",
       "       [ 1.07018234,  9.375749  ],\n",
       "       [ 1.07204368,  9.610903  ],\n",
       "       [ 1.07333111,  9.79664051],\n",
       "       [ 1.07421548,  9.94233703],\n",
       "       [ 1.07482662, 10.05602691],\n",
       "       [ 1.07525418, 10.14438958],\n",
       "       [ 1.0755577 , 10.21286049],\n",
       "       [ 1.07577631, 10.26579612],\n",
       "       [ 1.07593583, 10.30665005]])"
      ]
     },
     "execution_count": 203,
     "metadata": {},
     "output_type": "execute_result"
    }
   ],
   "source": [
    "hood_mass.gangs[0].G"
   ]
  },
  {
   "cell_type": "code",
   "execution_count": 204,
   "metadata": {},
   "outputs": [
    {
     "data": {
      "text/plain": [
       "array([[1.        , 1.        ],\n",
       "       [1.8       , 1.65      ],\n",
       "       [1.837053  , 1.867947  ],\n",
       "       [2.00587029, 1.80524892],\n",
       "       [1.93672824, 1.93919103],\n",
       "       [2.26195976, 1.65651662],\n",
       "       [2.16824345, 1.7785145 ],\n",
       "       [2.37906068, 1.57448309],\n",
       "       [2.39113164, 1.56122555],\n",
       "       [2.35013207, 1.58290244],\n",
       "       [2.31700934, 1.60218661],\n",
       "       [2.29607698, 1.61828411],\n",
       "       [2.28331637, 1.63168182],\n",
       "       [2.27553217, 1.64258264],\n",
       "       [2.27072541, 1.65129601],\n",
       "       [2.26770219, 1.65818082],\n",
       "       [2.26575896, 1.66357855],\n",
       "       [2.26448055, 1.66778721],\n",
       "       [2.26361959, 1.6710557 ],\n",
       "       [2.26302665, 1.67358663]])"
      ]
     },
     "execution_count": 204,
     "metadata": {},
     "output_type": "execute_result"
    }
   ],
   "source": [
    "hood_mass.P"
   ]
  },
  {
   "cell_type": "code",
   "execution_count": 205,
   "metadata": {},
   "outputs": [
    {
     "data": {
      "text/plain": [
       "[<matplotlib.lines.Line2D at 0x7f2555e57da0>]"
      ]
     },
     "execution_count": 205,
     "metadata": {},
     "output_type": "execute_result"
    },
    {
     "data": {
      "image/png": "[encoded data removed]",
      "text/plain": [
       "<Figure size 432x288 with 1 Axes>"
      ]
     },
     "metadata": {
      "needs_background": "light"
     },
     "output_type": "display_data"
    }
   ],
   "source": [
    "seq0 = hood_mass.C[:, 0]\n",
    "fig = plt.figure()\n",
    "ax = plt.axes()\n",
    "ax.plot(range(len(seq1)), seq0, color='orange')"
   ]
  },
  {
   "cell_type": "code",
   "execution_count": 206,
   "metadata": {},
   "outputs": [
    {
     "data": {
      "text/plain": [
       "[<matplotlib.lines.Line2D at 0x7f2555e3dda0>]"
      ]
     },
     "execution_count": 206,
     "metadata": {},
     "output_type": "execute_result"
    },
    {
     "data": {
      "image/png": "[encoded data removed]",
      "text/plain": [
       "<Figure size 432x288 with 1 Axes>"
      ]
     },
     "metadata": {
      "needs_background": "light"
     },
     "output_type": "display_data"
    }
   ],
   "source": [
    "seq1 = hood_mass.C[:, 1]\n",
    "fig = plt.figure()\n",
    "ax = plt.axes()\n",
    "ax.plot(range(len(seq1)), seq1, color='blue')"
   ]
  },
  {
   "cell_type": "code",
   "execution_count": 207,
   "metadata": {},
   "outputs": [
    {
     "data": {
      "image/png": "[encoded data removed]",
      "text/plain": [
       "<Figure size 432x288 with 1 Axes>"
      ]
     },
     "metadata": {},
     "output_type": "display_data"
    }
   ],
   "source": [
    "hood_mass.draw()"
   ]
  },
  {
   "cell_type": "code",
   "execution_count": 328,
   "metadata": {},
   "outputs": [],
   "source": [
    "bloods = Gang(z=5, n=20, alpha=0.1, g=np.array([1,0,1,0,1]), s=np.array([.5, 0, .5, .5, .5]))\n",
    "crips = Gang(z=5, n=20, alpha=0.3, g=np.array([1,0,0,1,1]), s=np.array([.5, 0, .5, .5, .5]))\n",
    "hood2 = Hood1DG(z=5,n=20, gang_count=2, gang_list=[bloods, crips], p=np.array([1,1,1,1,1]), beta=0.5, gamma=0.5)"
   ]
  },
  {
   "cell_type": "code",
   "execution_count": 329,
   "metadata": {},
   "outputs": [],
   "source": [
    "hood2.loop()"
   ]
  },
  {
   "cell_type": "code",
   "execution_count": 330,
   "metadata": {},
   "outputs": [
    {
     "data": {
      "image/png": "[encoded data removed]",
      "text/plain": [
       "<Figure size 432x288 with 1 Axes>"
      ]
     },
     "metadata": {},
     "output_type": "display_data"
    }
   ],
   "source": [
    "hood2.draw()"
   ]
  },
  {
   "cell_type": "code",
   "execution_count": 331,
   "metadata": {},
   "outputs": [
    {
     "data": {
      "text/plain": [
       "[<matplotlib.lines.Line2D at 0x7f2555a31438>]"
      ]
     },
     "execution_count": 331,
     "metadata": {},
     "output_type": "execute_result"
    },
    {
     "data": {
      "image/png": "[encoded data removed]",
      "text/plain": [
       "<Figure size 432x288 with 1 Axes>"
      ]
     },
     "metadata": {
      "needs_background": "light"
     },
     "output_type": "display_data"
    }
   ],
   "source": [
    "seq3 = hood2.C[:, 3]\n",
    "fig = plt.figure()\n",
    "ax = plt.axes()\n",
    "ax.plot(range(len(seq3)), seq3, color='blue')"
   ]
  },
  {
   "cell_type": "code",
   "execution_count": 315,
   "metadata": {},
   "outputs": [
    {
     "data": {
      "text/plain": [
       "array([[0.4       , 0.        , 0.1       , 0.3       , 0.4       ],\n",
       "       [0.23434049, 0.06848927, 0.24287768, 0.25995208, 0.23434049],\n",
       "       [0.2163939 , 0.02509633, 0.21747453, 0.21674303, 0.2163939 ],\n",
       "       [0.2171614 , 0.02511192, 0.21705711, 0.21700809, 0.2171614 ],\n",
       "       [0.21883197, 0.02783133, 0.21882755, 0.21883539, 0.21883197],\n",
       "       [0.21905311, 0.02812547, 0.21905397, 0.21905408, 0.21905311],\n",
       "       [0.21896755, 0.02798731, 0.21896755, 0.21896749, 0.21896755],\n",
       "       [0.21894066, 0.02794902, 0.21894065, 0.21894065, 0.21894066],\n",
       "       [0.21894275, 0.027953  , 0.21894275, 0.21894275, 0.21894275],\n",
       "       [0.21894485, 0.02795613, 0.21894485, 0.21894485, 0.21894485],\n",
       "       [0.218945  , 0.0279563 , 0.218945  , 0.218945  , 0.218945  ],\n",
       "       [0.21894488, 0.02795611, 0.21894488, 0.21894488, 0.21894488],\n",
       "       [0.21894485, 0.02795607, 0.21894485, 0.21894485, 0.21894485],\n",
       "       [0.21894486, 0.02795608, 0.21894486, 0.21894486, 0.21894486],\n",
       "       [0.21894486, 0.02795608, 0.21894486, 0.21894486, 0.21894486],\n",
       "       [0.21894486, 0.02795608, 0.21894486, 0.21894486, 0.21894486],\n",
       "       [0.21894486, 0.02795608, 0.21894486, 0.21894486, 0.21894486],\n",
       "       [0.21894486, 0.02795608, 0.21894486, 0.21894486, 0.21894486],\n",
       "       [0.21894486, 0.02795608, 0.21894486, 0.21894486, 0.21894486],\n",
       "       [0.21894486, 0.02795608, 0.21894486, 0.21894486, 0.21894486]])"
      ]
     },
     "execution_count": 315,
     "metadata": {},
     "output_type": "execute_result"
    }
   ],
   "source": [
    "hood2.C"
   ]
  },
  {
   "cell_type": "code",
   "execution_count": 282,
   "metadata": {},
   "outputs": [
    {
     "data": {
      "image/png": "[encoded data removed]",
      "text/plain": [
       "<Figure size 432x288 with 1 Axes>"
      ]
     },
     "metadata": {},
     "output_type": "display_data"
    }
   ],
   "source": [
    "crips.draw()"
   ]
  },
  {
   "cell_type": "code",
   "execution_count": null,
   "metadata": {},
   "outputs": [],
   "source": []
  },
  {
   "cell_type": "code",
   "execution_count": 262,
   "metadata": {},
   "outputs": [
    {
     "data": {
      "image/png": "[encoded data removed]",
      "text/plain": [
       "<Figure size 432x288 with 1 Axes>"
      ]
     },
     "metadata": {},
     "output_type": "display_data"
    }
   ],
   "source": [
    "bloods.draw()"
   ]
  },
  {
   "cell_type": "code",
   "execution_count": 295,
   "metadata": {},
   "outputs": [
    {
     "data": {
      "text/plain": [
       "array([[1.        , 0.        , 0.        , 1.        , 1.        ],\n",
       "       [0.75755364, 0.51366954, 0.75755364, 1.01366954, 0.75755364],\n",
       "       [0.89132493, 0.53253332, 0.86185071, 0.90578627, 0.89132493],\n",
       "       [0.91412677, 0.54957265, 0.89702997, 0.91945578, 0.91412677],\n",
       "       [0.91651445, 0.56399625, 0.91563932, 0.92152921, 0.91651445],\n",
       "       [0.92078053, 0.56562116, 0.919677  , 0.92121686, 0.92078053],\n",
       "       [0.92155434, 0.56683242, 0.92120207, 0.92181992, 0.92155434],\n",
       "       [0.92182113, 0.5672785 , 0.92176787, 0.92193069, 0.92182113],\n",
       "       [0.92195553, 0.56738489, 0.92192284, 0.92197266, 0.92195553],\n",
       "       [0.92198772, 0.56744223, 0.92197925, 0.92199642, 0.92198772],\n",
       "       [0.92200085, 0.56746196, 0.92199875, 0.9220035 , 0.92200085],\n",
       "       [0.92200601, 0.5674697 , 0.92200511, 0.92200662, 0.92200601],\n",
       "       [0.92200775, 0.56747345, 0.92200752, 0.92200801, 0.92200775],\n",
       "       [0.92200852, 0.56747509, 0.92200845, 0.92200859, 0.92200852],\n",
       "       [0.92200885, 0.5674759 , 0.92200882, 0.92200887, 0.92200885],\n",
       "       [0.922009  , 0.56747631, 0.92200899, 0.922009  , 0.922009  ],\n",
       "       [0.92200907, 0.56747652, 0.92200907, 0.92200907, 0.92200907],\n",
       "       [0.92200911, 0.56747663, 0.9220091 , 0.92200911, 0.92200911],\n",
       "       [0.92200912, 0.56747669, 0.92200912, 0.92200912, 0.92200912],\n",
       "       [0.92200913, 0.56747672, 0.92200913, 0.92200913, 0.92200913]])"
      ]
     },
     "execution_count": 295,
     "metadata": {},
     "output_type": "execute_result"
    }
   ],
   "source": [
    "crips.G"
   ]
  },
  {
   "cell_type": "code",
   "execution_count": 263,
   "metadata": {},
   "outputs": [
    {
     "data": {
      "text/plain": [
       "[<matplotlib.lines.Line2D at 0x7f2555eba7f0>]"
      ]
     },
     "execution_count": 263,
     "metadata": {},
     "output_type": "execute_result"
    },
    {
     "data": {
      "image/png": "[encoded data removed]",
      "text/plain": [
       "<Figure size 432x288 with 1 Axes>"
      ]
     },
     "metadata": {
      "needs_background": "light"
     },
     "output_type": "display_data"
    }
   ],
   "source": [
    "seq3 = hood2.C[:, 3]\n",
    "fig = plt.figure()\n",
    "ax = plt.axes()\n",
    "ax.plot(range(len(seq3)), seq3, color='orange')"
   ]
  },
  {
   "cell_type": "code",
   "execution_count": null,
   "metadata": {},
   "outputs": [],
   "source": []
  }
 ],
 "metadata": {
  "kernelspec": {
   "display_name": "Python 3",
   "language": "python",
   "name": "python3"
  },
  "language_info": {
   "codemirror_mode": {
    "name": "ipython",
    "version": 3
   },
   "file_extension": ".py",
   "mimetype": "text/x-python",
   "name": "python",
   "nbconvert_exporter": "python",
   "pygments_lexer": "ipython3",
   "version": "3.7.3"
  }
 },
 "nbformat": 4,
 "nbformat_minor": 2
}
